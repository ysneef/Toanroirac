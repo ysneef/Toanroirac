{
  "nbformat": 4,
  "nbformat_minor": 0,
  "metadata": {
    "colab": {
      "name": "Chuong4.ipynb",
      "provenance": [],
      "authorship_tag": "ABX9TyNMECo5YkAA7K25sUVLGM99",
      "include_colab_link": true
    },
    "kernelspec": {
      "name": "python3",
      "display_name": "Python 3"
    },
    "language_info": {
      "name": "python"
    }
  },
  "cells": [
    {
      "cell_type": "markdown",
      "metadata": {
        "id": "view-in-github",
        "colab_type": "text"
      },
      "source": [
        "<a href=\"https://colab.research.google.com/github/ysneef/Toanroirac/blob/main/Chuong4.ipynb\" target=\"_parent\"><img src=\"https://colab.research.google.com/assets/colab-badge.svg\" alt=\"Open In Colab\"/></a>"
      ]
    },
    {
      "cell_type": "markdown",
      "source": [
        "# **CHƯƠNG 4: PHÉP ĐẾM – HOÁN VỊ, TỔ HỢP VÀ CHỈNH HỢP**"
      ],
      "metadata": {
        "id": "pPnByOQ5qGVy"
      }
    },
    {
      "cell_type": "markdown",
      "source": [
        "# 1. Giới thiệu về hoán vị, tổ hợp và chỉnh hợp"
      ],
      "metadata": {
        "id": "enb4dkMTyaMY"
      }
    },
    {
      "cell_type": "markdown",
      "source": [
        "# 2. Sử dụng thư viện itertools với các phép toán hỗ trợ xử lý về tổ hợp "
      ],
      "metadata": {
        "id": "Ja7cP5tYuLmq"
      }
    },
    {
      "cell_type": "markdown",
      "source": [
        "\n",
        "*   Tích tổng tích tụ (accumulate):\n",
        "\n"
      ],
      "metadata": {
        "id": "VjaCZ_9rqm_g"
      }
    },
    {
      "cell_type": "code",
      "execution_count": 31,
      "metadata": {
        "colab": {
          "base_uri": "https://localhost:8080/"
        },
        "id": "CyiQKzluqEWJ",
        "outputId": "20227d8e-90c6-4d96-93b8-557b1b68a0be"
      },
      "outputs": [
        {
          "output_type": "stream",
          "name": "stdout",
          "text": [
            "1\n",
            "3\n",
            "6\n",
            "10\n",
            "15\n",
            "21\n",
            "28\n",
            "36\n",
            "45\n",
            "55\n"
          ]
        }
      ],
      "source": [
        "import itertools\n",
        "for i in itertools.accumulate([1,2,3,4,5,6,7,8,9,10]):\n",
        "  print(i)"
      ]
    },
    {
      "cell_type": "markdown",
      "source": [
        "\n",
        "\n",
        "*   Hàm lặp (repeat):\n"
      ],
      "metadata": {
        "id": "6t416gYiqzwY"
      }
    },
    {
      "cell_type": "code",
      "source": [
        "for i in itertools.repeat('Red', 3):\n",
        "  print (i)"
      ],
      "metadata": {
        "colab": {
          "base_uri": "https://localhost:8080/"
        },
        "id": "-lXyYusAq3jK",
        "outputId": "bbf82330-c85f-4ce1-f8c5-647ddf7a0274"
      },
      "execution_count": 32,
      "outputs": [
        {
          "output_type": "stream",
          "name": "stdout",
          "text": [
            "Red\n",
            "Red\n",
            "Red\n"
          ]
        }
      ]
    },
    {
      "cell_type": "markdown",
      "source": [
        "\n",
        "\n",
        "*   Tích Descartes:\n",
        "\n"
      ],
      "metadata": {
        "id": "izKBzndKq8lw"
      }
    },
    {
      "cell_type": "markdown",
      "source": [
        "*Phương pháp 1: Viết đoạn mã thuần bằng Python:*"
      ],
      "metadata": {
        "id": "OyqSOQUYrs2Z"
      }
    },
    {
      "cell_type": "code",
      "source": [
        "for i in ((i, j) for i in [1, 2] for j in [6, 7, 8, 9]):\n",
        "  print(i)"
      ],
      "metadata": {
        "colab": {
          "base_uri": "https://localhost:8080/"
        },
        "id": "f1Oqebx3rAxJ",
        "outputId": "d1fa37c3-cb93-4c61-a688-7aa23c22ea31"
      },
      "execution_count": 33,
      "outputs": [
        {
          "output_type": "stream",
          "name": "stdout",
          "text": [
            "(1, 6)\n",
            "(1, 7)\n",
            "(1, 8)\n",
            "(1, 9)\n",
            "(2, 6)\n",
            "(2, 7)\n",
            "(2, 8)\n",
            "(2, 9)\n"
          ]
        }
      ]
    },
    {
      "cell_type": "markdown",
      "source": [
        "*Phương pháp 1: Viết đoạn mã thuần bằng Python:*"
      ],
      "metadata": {
        "id": "Dw7Sev-ErasJ"
      }
    },
    {
      "cell_type": "code",
      "source": [
        "import itertools\n",
        "for i in itertools.product([1, 2], [6, 7, 8, 9]):\n",
        "  print(i)"
      ],
      "metadata": {
        "colab": {
          "base_uri": "https://localhost:8080/"
        },
        "id": "b_-pQr5zrfNg",
        "outputId": "1c0178f6-e6e5-470e-9414-3f7d1b3b444c"
      },
      "execution_count": 34,
      "outputs": [
        {
          "output_type": "stream",
          "name": "stdout",
          "text": [
            "(1, 6)\n",
            "(1, 7)\n",
            "(1, 8)\n",
            "(1, 9)\n",
            "(2, 6)\n",
            "(2, 7)\n",
            "(2, 8)\n",
            "(2, 9)\n"
          ]
        }
      ]
    },
    {
      "cell_type": "code",
      "source": [
        "import itertools\n",
        "for i in itertools.product('AB', 'C', 'DEF'):\n",
        "  print(i)"
      ],
      "metadata": {
        "colab": {
          "base_uri": "https://localhost:8080/"
        },
        "id": "GL8PMV-5spRA",
        "outputId": "38b310c9-ae4b-46b8-df05-3338ec214324"
      },
      "execution_count": 35,
      "outputs": [
        {
          "output_type": "stream",
          "name": "stdout",
          "text": [
            "('A', 'C', 'D')\n",
            "('A', 'C', 'E')\n",
            "('A', 'C', 'F')\n",
            "('B', 'C', 'D')\n",
            "('B', 'C', 'E')\n",
            "('B', 'C', 'F')\n"
          ]
        }
      ]
    },
    {
      "cell_type": "code",
      "source": [
        "for i in itertools.product('24', 'IT', repeat = 2):\n",
        "  print (i) "
      ],
      "metadata": {
        "colab": {
          "base_uri": "https://localhost:8080/"
        },
        "id": "v1hvS4EnsxSX",
        "outputId": "8eb7b822-50d8-4211-d263-246b954e88f6"
      },
      "execution_count": 36,
      "outputs": [
        {
          "output_type": "stream",
          "name": "stdout",
          "text": [
            "('2', 'I', '2', 'I')\n",
            "('2', 'I', '2', 'T')\n",
            "('2', 'I', '4', 'I')\n",
            "('2', 'I', '4', 'T')\n",
            "('2', 'T', '2', 'I')\n",
            "('2', 'T', '2', 'T')\n",
            "('2', 'T', '4', 'I')\n",
            "('2', 'T', '4', 'T')\n",
            "('4', 'I', '2', 'I')\n",
            "('4', 'I', '2', 'T')\n",
            "('4', 'I', '4', 'I')\n",
            "('4', 'I', '4', 'T')\n",
            "('4', 'T', '2', 'I')\n",
            "('4', 'T', '2', 'T')\n",
            "('4', 'T', '4', 'I')\n",
            "('4', 'T', '4', 'T')\n"
          ]
        }
      ]
    },
    {
      "cell_type": "markdown",
      "source": [
        "\n",
        "\n",
        "*   Hoán vị (permutation):\n",
        "\n"
      ],
      "metadata": {
        "id": "ZVcvA4NNs15n"
      }
    },
    {
      "cell_type": "code",
      "source": [
        "from itertools import permutations\n",
        "for i in permutations('ABC'):\n",
        "  print(i)"
      ],
      "metadata": {
        "colab": {
          "base_uri": "https://localhost:8080/"
        },
        "id": "UcFmbkEzs6k5",
        "outputId": "c9b27e6f-6bd4-4fc5-c569-4e2801743982"
      },
      "execution_count": 37,
      "outputs": [
        {
          "output_type": "stream",
          "name": "stdout",
          "text": [
            "('A', 'B', 'C')\n",
            "('A', 'C', 'B')\n",
            "('B', 'A', 'C')\n",
            "('B', 'C', 'A')\n",
            "('C', 'A', 'B')\n",
            "('C', 'B', 'A')\n"
          ]
        }
      ]
    },
    {
      "cell_type": "markdown",
      "source": [
        "\n",
        "\n",
        "*   Chỉnh hợp chập k từ n (permutation):\n",
        "\n"
      ],
      "metadata": {
        "id": "oWYA9PeYtL2h"
      }
    },
    {
      "cell_type": "code",
      "source": [
        "from itertools import permutations\n",
        "for i in permutations('ABC', 2):\n",
        "  print(i)"
      ],
      "metadata": {
        "colab": {
          "base_uri": "https://localhost:8080/"
        },
        "id": "3FhRKKNHtNoQ",
        "outputId": "23898a2a-885f-4bfb-a559-ae577146e7a3"
      },
      "execution_count": 38,
      "outputs": [
        {
          "output_type": "stream",
          "name": "stdout",
          "text": [
            "('A', 'B')\n",
            "('A', 'C')\n",
            "('B', 'A')\n",
            "('B', 'C')\n",
            "('C', 'A')\n",
            "('C', 'B')\n"
          ]
        }
      ]
    },
    {
      "cell_type": "markdown",
      "source": [
        "\n",
        "\n",
        "*   Tổ hợp (combinations):\n",
        "\n"
      ],
      "metadata": {
        "id": "yTG5y4GOtWJx"
      }
    },
    {
      "cell_type": "code",
      "source": [
        "for i in itertools.combinations('ABCDE', 3):\n",
        "  print(i)"
      ],
      "metadata": {
        "colab": {
          "base_uri": "https://localhost:8080/"
        },
        "id": "ioECLvAxtXcC",
        "outputId": "885ec194-3424-4881-ea3f-830a5569a95b"
      },
      "execution_count": 39,
      "outputs": [
        {
          "output_type": "stream",
          "name": "stdout",
          "text": [
            "('A', 'B', 'C')\n",
            "('A', 'B', 'D')\n",
            "('A', 'B', 'E')\n",
            "('A', 'C', 'D')\n",
            "('A', 'C', 'E')\n",
            "('A', 'D', 'E')\n",
            "('B', 'C', 'D')\n",
            "('B', 'C', 'E')\n",
            "('B', 'D', 'E')\n",
            "('C', 'D', 'E')\n"
          ]
        }
      ]
    },
    {
      "cell_type": "markdown",
      "source": [
        "*Ví dụ khác*"
      ],
      "metadata": {
        "id": "rWtSJHdJts5B"
      }
    },
    {
      "cell_type": "code",
      "source": [
        "import itertools\n",
        "nhaccu = 'Đàn Trống Sáo Bo'.split()\n",
        "chonmua2mon = list(itertools.combinations(nhaccu, 2))\n",
        "chonmua2mon"
      ],
      "metadata": {
        "colab": {
          "base_uri": "https://localhost:8080/"
        },
        "id": "qQivhDMDtxfS",
        "outputId": "f4b59194-860e-49bb-e918-2c86c80a7252"
      },
      "execution_count": 30,
      "outputs": [
        {
          "output_type": "execute_result",
          "data": {
            "text/plain": [
              "[('Đàn', 'Trống'),\n",
              " ('Đàn', 'Sáo'),\n",
              " ('Đàn', 'Bo'),\n",
              " ('Trống', 'Sáo'),\n",
              " ('Trống', 'Bo'),\n",
              " ('Sáo', 'Bo')]"
            ]
          },
          "metadata": {},
          "execution_count": 30
        }
      ]
    },
    {
      "cell_type": "markdown",
      "source": [
        "\n",
        "\n",
        "*   Tổ hợp có lặp (combinations): \n",
        "\n"
      ],
      "metadata": {
        "id": "y5_wQPfgt6bI"
      }
    },
    {
      "cell_type": "code",
      "source": [
        "for i in itertools.combinations_with_replacement('ABCDE', 3):\n",
        "  print (i)"
      ],
      "metadata": {
        "colab": {
          "base_uri": "https://localhost:8080/"
        },
        "id": "YvxNCgaot8Yh",
        "outputId": "0fff5709-4be9-40f4-d63c-f9dd51e9351d"
      },
      "execution_count": 40,
      "outputs": [
        {
          "output_type": "stream",
          "name": "stdout",
          "text": [
            "('A', 'A', 'A')\n",
            "('A', 'A', 'B')\n",
            "('A', 'A', 'C')\n",
            "('A', 'A', 'D')\n",
            "('A', 'A', 'E')\n",
            "('A', 'B', 'B')\n",
            "('A', 'B', 'C')\n",
            "('A', 'B', 'D')\n",
            "('A', 'B', 'E')\n",
            "('A', 'C', 'C')\n",
            "('A', 'C', 'D')\n",
            "('A', 'C', 'E')\n",
            "('A', 'D', 'D')\n",
            "('A', 'D', 'E')\n",
            "('A', 'E', 'E')\n",
            "('B', 'B', 'B')\n",
            "('B', 'B', 'C')\n",
            "('B', 'B', 'D')\n",
            "('B', 'B', 'E')\n",
            "('B', 'C', 'C')\n",
            "('B', 'C', 'D')\n",
            "('B', 'C', 'E')\n",
            "('B', 'D', 'D')\n",
            "('B', 'D', 'E')\n",
            "('B', 'E', 'E')\n",
            "('C', 'C', 'C')\n",
            "('C', 'C', 'D')\n",
            "('C', 'C', 'E')\n",
            "('C', 'D', 'D')\n",
            "('C', 'D', 'E')\n",
            "('C', 'E', 'E')\n",
            "('D', 'D', 'D')\n",
            "('D', 'D', 'E')\n",
            "('D', 'E', 'E')\n",
            "('E', 'E', 'E')\n"
          ]
        }
      ]
    },
    {
      "cell_type": "markdown",
      "source": [
        "\n",
        "\n",
        "*   Xoay vòng giá trị cần lấy:\n"
      ],
      "metadata": {
        "id": "1ZcoYIbRuBAg"
      }
    },
    {
      "cell_type": "code",
      "source": [
        "for i in itertools.repeat('Red', 3):\n",
        "  print (i) "
      ],
      "metadata": {
        "colab": {
          "base_uri": "https://localhost:8080/"
        },
        "id": "G_uRWkuSuCdo",
        "outputId": "8c6ab003-d1f2-472a-bfa0-cbf7233b4256"
      },
      "execution_count": 41,
      "outputs": [
        {
          "output_type": "stream",
          "name": "stdout",
          "text": [
            "Red\n",
            "Red\n",
            "Red\n"
          ]
        }
      ]
    },
    {
      "cell_type": "markdown",
      "source": [
        "# 3. Ôn luyện cơ bản về Python: Hàm ngẫu nhiên toán học và lặp trong Python "
      ],
      "metadata": {
        "id": "fVzWq9P0uQ6g"
      }
    },
    {
      "cell_type": "markdown",
      "source": [
        "\n",
        "\n",
        "3.1.   Cơ bản về hàm ngẫu nhiên trong Python\n",
        "\n"
      ],
      "metadata": {
        "id": "OP3mAOIVuV_I"
      }
    },
    {
      "cell_type": "markdown",
      "source": [
        "+ Chọn ngẫu nhiên trong tập hợp có sẵn: "
      ],
      "metadata": {
        "id": "aXXRN1HXudRX"
      }
    },
    {
      "cell_type": "code",
      "source": [
        "import random\n",
        "random.choice(['Táo', 'Lê', 'Ổi', 'Chuối'])"
      ],
      "metadata": {
        "colab": {
          "base_uri": "https://localhost:8080/",
          "height": 36
        },
        "id": "Yiq8rV-ZuZe_",
        "outputId": "aa826482-3637-4c19-f4b0-e218bf44b8ec"
      },
      "execution_count": 27,
      "outputs": [
        {
          "output_type": "execute_result",
          "data": {
            "text/plain": [
              "'Lê'"
            ],
            "application/vnd.google.colaboratory.intrinsic+json": {
              "type": "string"
            }
          },
          "metadata": {},
          "execution_count": 27
        }
      ]
    },
    {
      "cell_type": "markdown",
      "source": [
        "+ Phát sinh số thực ngẫu nhiên trong khoảng số thực [0,1):\n"
      ],
      "metadata": {
        "id": "3fclop8ruq3y"
      }
    },
    {
      "cell_type": "code",
      "source": [
        "random.random() # random số thực (float)"
      ],
      "metadata": {
        "colab": {
          "base_uri": "https://localhost:8080/"
        },
        "id": "lAnnb2O-uuNI",
        "outputId": "aea2e6b7-d85c-4c60-f4a7-839808016450"
      },
      "execution_count": 26,
      "outputs": [
        {
          "output_type": "execute_result",
          "data": {
            "text/plain": [
              "0.0919213050841805"
            ]
          },
          "metadata": {},
          "execution_count": 26
        }
      ]
    },
    {
      "cell_type": "markdown",
      "source": [
        "+ Phát sinh số thực ngẫu nhiên trong khoảng số thực [a,b): "
      ],
      "metadata": {
        "id": "kfxwi5n9uxk4"
      }
    },
    {
      "cell_type": "code",
      "source": [
        "random. uniform(4.9, 10.0) # a = 4.9 và b = 10, số ngẫu nhiên trong khoảng [4.9, 10.0)"
      ],
      "metadata": {
        "colab": {
          "base_uri": "https://localhost:8080/"
        },
        "id": "f9pQHOdzuygA",
        "outputId": "f127111b-b475-464d-cb9b-c3ca10b704c5"
      },
      "execution_count": 25,
      "outputs": [
        {
          "output_type": "execute_result",
          "data": {
            "text/plain": [
              "6.821310929317633"
            ]
          },
          "metadata": {},
          "execution_count": 25
        }
      ]
    },
    {
      "cell_type": "markdown",
      "source": [
        "+ Phát sinh số ngẫu nhiên trong khoảng 0 đến 5:"
      ],
      "metadata": {
        "id": "yWFSZw9Hu0nY"
      }
    },
    {
      "cell_type": "code",
      "source": [
        "random.randrange(6) "
      ],
      "metadata": {
        "colab": {
          "base_uri": "https://localhost:8080/"
        },
        "id": "rxbhChz-u2nZ",
        "outputId": "db46886e-92b7-45da-884c-2df1864ad325"
      },
      "execution_count": 24,
      "outputs": [
        {
          "output_type": "execute_result",
          "data": {
            "text/plain": [
              "0"
            ]
          },
          "metadata": {},
          "execution_count": 24
        }
      ]
    },
    {
      "cell_type": "markdown",
      "source": [
        "+ Phát sinh số ngẫu nhiên trong khoảng 50 đến 500: "
      ],
      "metadata": {
        "id": "PFfBGiXvu6E5"
      }
    },
    {
      "cell_type": "code",
      "source": [
        "random.randrange(50, 500) "
      ],
      "metadata": {
        "colab": {
          "base_uri": "https://localhost:8080/"
        },
        "id": "B6W-sJoUu84w",
        "outputId": "51d17492-1d45-4aec-e51c-3e33e23bbf7a"
      },
      "execution_count": 23,
      "outputs": [
        {
          "output_type": "execute_result",
          "data": {
            "text/plain": [
              "481"
            ]
          },
          "metadata": {},
          "execution_count": 23
        }
      ]
    },
    {
      "cell_type": "markdown",
      "source": [
        "+ Phát sinh số nguyên chẵn ngẫu nhiên trong khoảng 20 đến 100:"
      ],
      "metadata": {
        "id": "-eXleSbru_IB"
      }
    },
    {
      "cell_type": "code",
      "source": [
        "random.randrange(20, 100, 2) # số ngẫu nhiên chẵn do 20 là chẵn và bước nhảy bằng 2 "
      ],
      "metadata": {
        "colab": {
          "base_uri": "https://localhost:8080/"
        },
        "id": "t-QxN2eGvBmh",
        "outputId": "9b27e6fc-5f7b-4784-db30-4f24d8c36078"
      },
      "execution_count": 22,
      "outputs": [
        {
          "output_type": "execute_result",
          "data": {
            "text/plain": [
              "34"
            ]
          },
          "metadata": {},
          "execution_count": 22
        }
      ]
    },
    {
      "cell_type": "markdown",
      "source": [
        "+ Phát sinh ngẫu nhiên 10 giá trị trong khoảng 0 đến 99:"
      ],
      "metadata": {
        "id": "OvmJIk31vFAQ"
      }
    },
    {
      "cell_type": "code",
      "source": [
        "random.sample(range(100), 10) # với Python 2.x câu lệnh là: xrange(100)"
      ],
      "metadata": {
        "colab": {
          "base_uri": "https://localhost:8080/"
        },
        "id": "Nik0LutCvFs3",
        "outputId": "ed4602ae-14d3-4e4c-ee3a-7aa0fa3e4573"
      },
      "execution_count": 20,
      "outputs": [
        {
          "output_type": "execute_result",
          "data": {
            "text/plain": [
              "[99, 12, 6, 41, 56, 50, 42, 1, 21, 82]"
            ]
          },
          "metadata": {},
          "execution_count": 20
        }
      ]
    },
    {
      "cell_type": "markdown",
      "source": [
        "+Phát sinh ngẫu nhiên 15 giá trị trong khoảng 10 đến 99: "
      ],
      "metadata": {
        "id": "MF6GMQy7vH3f"
      }
    },
    {
      "cell_type": "code",
      "source": [
        "random.sample(range(10, 100), 15) "
      ],
      "metadata": {
        "colab": {
          "base_uri": "https://localhost:8080/"
        },
        "id": "sR2L2P5kvJfY",
        "outputId": "00e155b9-acaa-4490-9520-4bae3d26d038"
      },
      "execution_count": 21,
      "outputs": [
        {
          "output_type": "execute_result",
          "data": {
            "text/plain": [
              "[18, 70, 14, 58, 95, 89, 27, 85, 36, 42, 35, 73, 49, 81, 11]"
            ]
          },
          "metadata": {},
          "execution_count": 21
        }
      ]
    },
    {
      "cell_type": "markdown",
      "source": [
        "+Phát sinh ngẫu nhiên 5 giá trị trong danh sách [‘a’, ‘b’, ‘c’, ‘d’, ‘e’, ‘f’, ‘g’, ‘h’, ‘i’, ‘j’]:"
      ],
      "metadata": {
        "id": "pLospaPdvLKA"
      }
    },
    {
      "cell_type": "code",
      "source": [
        "chars = [\"a\", \"b\", \"c\", \"d\", \"e\", \"f\", \"g\", \"h\", \"i\", \"j\"]\n",
        "rand5_char = random.sample(chars, 5)\n",
        "print (rand5_char) "
      ],
      "metadata": {
        "colab": {
          "base_uri": "https://localhost:8080/"
        },
        "id": "hCbL5C5EvNaY",
        "outputId": "4ef44271-da00-402e-d48d-5529085014b7"
      },
      "execution_count": 19,
      "outputs": [
        {
          "output_type": "stream",
          "name": "stdout",
          "text": [
            "['e', 'g', 'f', 'j', 'd']\n"
          ]
        }
      ]
    },
    {
      "cell_type": "markdown",
      "source": [
        "3.2. Ứng dụng minh họa: Vẽ ngẫu nhiên Eclipse"
      ],
      "metadata": {
        "id": "9lgLpdaVv6iB"
      }
    },
    {
      "cell_type": "code",
      "source": [
        "import matplotlib.pyplot as plt\n",
        "import numpy.random as rnd\n",
        "from matplotlib.patches import Ellipse\n",
        "\n",
        "NUM = 250 # Vẽ 250 eclipse ngẫu nhiên vị trí, góc:\n",
        "\n",
        "ells = [Ellipse (xy = rnd.rand(2)*10, width = rnd.rand(), height = rnd.rand(), angle = rnd.rand()*360)\n",
        "  for i in range (NUM) ]\n",
        "\n",
        "fig = plt.figure(0)\n",
        "ax = fig.add_subplot(111, aspect = 'equal')\n",
        "for e in ells:\n",
        "  ax.add_artist(e)\n",
        "  e.set_clip_box(ax.bbox)\n",
        "  e.set_alpha(rnd.rand())\n",
        "  e.set_facecolor(rnd.rand(3))\n",
        "\n",
        "ax.set_xlim(0, 10)\n",
        "ax.set_ylim(0, 10)\n",
        "\n",
        "plt.show"
      ],
      "metadata": {
        "colab": {
          "base_uri": "https://localhost:8080/",
          "height": 286
        },
        "id": "PTqUh7Myv7VC",
        "outputId": "b8aa1a14-400a-41f5-c1d1-c5eef4479460"
      },
      "execution_count": 18,
      "outputs": [
        {
          "output_type": "execute_result",
          "data": {
            "text/plain": [
              "<function matplotlib.pyplot.show>"
            ]
          },
          "metadata": {},
          "execution_count": 18
        },
        {
          "output_type": "display_data",
          "data": {
            "text/plain": [
              "<Figure size 432x288 with 1 Axes>"
            ],
            "image/png": "[encoded data removed]"
          },
          "metadata": {
            "needs_background": "light"
          }
        }
      ]
    },
    {
      "cell_type": "markdown",
      "source": [
        "3.3. Bài toán ứng dụng 1: Giới thiệu Roullete Wheel – “Chiếc nón kì diệu” "
      ],
      "metadata": {
        "id": "iZCSgIsNzOuz"
      }
    },
    {
      "cell_type": "code",
      "source": [
        "from __future__ import division\n",
        "import numpy as np\n",
        "import random,pdb\n",
        "import operator\n",
        "\n",
        "def roulette_selection(weights):\n",
        "  '''performs weighted selection or roulette wheel selection on a list And returns the index selected from the list'''\n",
        "\n",
        "  # sort the weights in ascending order\n",
        "  sorted_indexed_weights  = sorted(enumerate(weights), key=operator.itemgetter(1)); indices, sorted_weights = zip(*sorted_indexed_weights);\n",
        "  # calculate the cumulative propability\n",
        "  tot_sum = sum(sorted_weights)\n",
        "  prob = [x/tot_sum for x in sorted_weights]\n",
        "  cum_prob=np.cumsum(prob)\n",
        "  # select random a number in the range [0,1]\n",
        "  random_num=random.random()\n",
        "\n",
        "  for index_value, cum_prob_value in zip(indices,cum_prob):\n",
        "    if random_num < cum_prob_value:\n",
        "      return index_value"
      ],
      "metadata": {
        "id": "2-96AIc1zPOu"
      },
      "execution_count": 74,
      "outputs": []
    },
    {
      "cell_type": "code",
      "source": [
        "xanhdo =[87, 3, 20]\n",
        "for i in range(20):\n",
        "  print (roulette_selection(xanhdo)) \n"
      ],
      "metadata": {
        "id": "MJZ8DGy16fwG",
        "outputId": "e255db48-0569-4785-c3d7-c4f5f73457be",
        "colab": {
          "base_uri": "https://localhost:8080/"
        }
      },
      "execution_count": 75,
      "outputs": [
        {
          "output_type": "stream",
          "name": "stdout",
          "text": [
            "0\n",
            "0\n",
            "2\n",
            "2\n",
            "0\n",
            "0\n",
            "0\n",
            "0\n",
            "0\n",
            "0\n",
            "0\n",
            "2\n",
            "0\n",
            "0\n",
            "0\n",
            "0\n",
            "0\n",
            "0\n",
            "0\n",
            "0\n"
          ]
        }
      ]
    },
    {
      "cell_type": "code",
      "source": [
        "xanhdo =[27, 3, 30] # khởi tạo các giá trị: đèn xanh gần bằng đèn đỏ\n",
        "for i in range(20):\n",
        "  print (roulette_selection(xanhdo)) "
      ],
      "metadata": {
        "id": "PoJCpM6zwxYB",
        "outputId": "db383912-d101-49f3-bd78-3833d1577016",
        "colab": {
          "base_uri": "https://localhost:8080/"
        }
      },
      "execution_count": 76,
      "outputs": [
        {
          "output_type": "stream",
          "name": "stdout",
          "text": [
            "0\n",
            "0\n",
            "0\n",
            "0\n",
            "2\n",
            "2\n",
            "2\n",
            "2\n",
            "2\n",
            "2\n",
            "1\n",
            "2\n",
            "2\n",
            "1\n",
            "0\n",
            "2\n",
            "2\n",
            "2\n",
            "0\n",
            "0\n"
          ]
        }
      ]
    },
    {
      "cell_type": "markdown",
      "source": [
        "# 4. Tập phủ trùm tối thiểu (Set Cover Problem) "
      ],
      "metadata": {
        "id": "YWwtzu4kydjJ"
      }
    },
    {
      "cell_type": "markdown",
      "source": [
        "# 5. Bài toán ứng dụng 2: Chọn tập các camera quan sát hội chợ"
      ],
      "metadata": {
        "id": "Gp9axE55fl9v"
      }
    },
    {
      "cell_type": "markdown",
      "source": [
        "Thực hành xây dựng các đoạn module hiện thực ý tưởng trên: "
      ],
      "metadata": {
        "id": "dDV3nKcCgsFX"
      }
    },
    {
      "cell_type": "markdown",
      "source": [
        "+ Hàm tìm số lượng phần tử có trong tập A mà không có trong tập B:"
      ],
      "metadata": {
        "id": "2PDxNUxnfY0G"
      }
    },
    {
      "cell_type": "code",
      "source": [
        "def difference(A, B): \n",
        "  phantu_moi = 0 # phần tử có trong tập A mà không có trong tập B\n",
        "  for x in A:\n",
        "    if x not in B:\n",
        "      phantu_moi = phantu_moi + 1\n",
        "  return phantu_moi "
      ],
      "metadata": {
        "id": "5npUawzxyi30"
      },
      "execution_count": 1,
      "outputs": []
    },
    {
      "cell_type": "markdown",
      "source": [
        "+ Hàm thêm những phần tử trong tập A mà không có trong tập B vào tập B: \n"
      ],
      "metadata": {
        "id": "e-GD2QN6gYXf"
      }
    },
    {
      "cell_type": "code",
      "source": [
        "def add(A,B):\n",
        "  ketqua = B\n",
        "  for x in A:\n",
        "    if x not in B:\n",
        "      ketqua = ketqua + [x]\n",
        "  return ketqua "
      ],
      "metadata": {
        "id": "yPXTqS7xgWn4"
      },
      "execution_count": 2,
      "outputs": []
    },
    {
      "cell_type": "markdown",
      "source": [
        "Thực hiện xử lý: "
      ],
      "metadata": {
        "id": "qDwSbgjChKkD"
      }
    },
    {
      "cell_type": "markdown",
      "source": [
        "+ Khai báo các camera phủ các khu vực:"
      ],
      "metadata": {
        "id": "zy-XrTwehNfH"
      }
    },
    {
      "cell_type": "code",
      "source": [
        "I = [1, 3, 4, 6, 7]\n",
        "II = [4, 7, 8, 12]\n",
        "III = [2, 5, 9, 11, 13]\n",
        "IV = [1, 2, 18, 19, 21]\n",
        "V = [3, 6, 10, 12, 14]\n",
        "VI = [8, 14, 15, 16, 17]\n",
        "VII = [18, 21, 24, 25]\n",
        "VIII = [2, 10, 16, 23]\n",
        "IX = [1, 6, 11]\n",
        "X = [20, 22, 24, 25]\n",
        "XI = [2, 4, 6, 8]\n",
        "XII =[1, 6, 12, 17] "
      ],
      "metadata": {
        "id": "dLv7JeGghLJh"
      },
      "execution_count": 3,
      "outputs": []
    },
    {
      "cell_type": "markdown",
      "source": [
        "+ Khai báo tập các hợp camera và tập hợp các khu vực: "
      ],
      "metadata": {
        "id": "WT_1Sak5hXuH"
      }
    },
    {
      "cell_type": "code",
      "source": [
        "cameras = [I, II, III, IV, V, VI, VII, VIII, IX, X, XI, XII]\n",
        "khuvuc = range(1,26) # 25 khu vực từ 1 đến 25 "
      ],
      "metadata": {
        "id": "rirVA8ErhYSY"
      },
      "execution_count": 4,
      "outputs": []
    },
    {
      "cell_type": "markdown",
      "source": [
        "+ Xử lý chính: "
      ],
      "metadata": {
        "id": "oJp9QIIyheuo"
      }
    },
    {
      "cell_type": "code",
      "source": [
        "tapphu = [] # Ban đầu tập phủ là tập rỗng.\n",
        "while len(tapphu)<len(khuvuc):\n",
        "  max_new_cameras = 0 # số các camera mới nhiều nhất có thể thêm vào tập phủ\n",
        "  for camera in cameras:\n",
        "    mmax_new_cameras = max(difference(camera, tapphu), max_new_cameras)\n",
        "  luachon = 0 # duyệt lần nữa để tìm vị trí camera có số khu vực phủ nhiều nhất như trên\n",
        "  while difference(cameras[luachon], tapphu) < max_new_cameras:\n",
        "    luachon = luachon +1# vi tri camera se duoc chon\n",
        "  if (luachon < len(cameras)): # để đảm bảo vị trí cameras là tồn tại\n",
        "    tapphu = add(cameras[luachon], tapphu)\n",
        "    print ('Camera: ', luachon+1, cameras[luachon], tapphu) # kết quả các bước"
      ],
      "metadata": {
        "id": "1yonU6WbjWRX"
      },
      "execution_count": null,
      "outputs": []
    },
    {
      "cell_type": "markdown",
      "source": [
        "+ In ra kết quả và kiểm lại: \n"
      ],
      "metadata": {
        "id": "KvJkRus9iuWT"
      }
    },
    {
      "cell_type": "code",
      "source": [
        "tapphu.sort()\n",
        "print (tapphu)"
      ],
      "metadata": {
        "id": "uO7kgEe9iu0K",
        "outputId": "73151589-a674-4b05-dc88-a8165946f58b",
        "colab": {
          "base_uri": "https://localhost:8080/"
        }
      },
      "execution_count": 77,
      "outputs": [
        {
          "output_type": "stream",
          "name": "stdout",
          "text": [
            "[1, 3, 4, 6, 7]\n"
          ]
        }
      ]
    }
  ]
}