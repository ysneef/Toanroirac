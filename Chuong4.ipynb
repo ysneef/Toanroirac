{
  "nbformat": 4,
  "nbformat_minor": 0,
  "metadata": {
    "colab": {
      "name": "Chuong4.ipynb",
      "provenance": [],
      "authorship_tag": "ABX9TyMI1kKcdj0+XXYN3KZofSh1",
      "include_colab_link": true
    },
    "kernelspec": {
      "name": "python3",
      "display_name": "Python 3"
    },
    "language_info": {
      "name": "python"
    }
  },
  "cells": [
    {
      "cell_type": "markdown",
      "metadata": {
        "id": "view-in-github",
        "colab_type": "text"
      },
      "source": [
        "<a href=\"https://colab.research.google.com/github/ysneef/Toanroirac/blob/main/Chuong4.ipynb\" target=\"_parent\"><img src=\"https://colab.research.google.com/assets/colab-badge.svg\" alt=\"Open In Colab\"/></a>"
      ]
    },
    {
      "cell_type": "markdown",
      "source": [
        "# **CHƯƠNG 4: PHÉP ĐẾM – HOÁN VỊ, TỔ HỢP VÀ CHỈNH HỢP**"
      ],
      "metadata": {
        "id": "pPnByOQ5qGVy"
      }
    },
    {
      "cell_type": "markdown",
      "source": [
        "# 1. Giới thiêu về hoán vị, tổ hợp và chỉnh hợp"
      ],
      "metadata": {
        "id": "enb4dkMTyaMY"
      }
    },
    {
      "cell_type": "markdown",
      "source": [
        "# 2. Sử dụng thư viện itertools với các phép toán hỗ trợ xử lý về tổ hợp "
      ],
      "metadata": {
        "id": "Ja7cP5tYuLmq"
      }
    },
    {
      "cell_type": "markdown",
      "source": [
        "\n",
        "*   Tích tổng tích tụ (accumulate):\n",
        "\n"
      ],
      "metadata": {
        "id": "VjaCZ_9rqm_g"
      }
    },
    {
      "cell_type": "code",
      "execution_count": null,
      "metadata": {
        "colab": {
          "base_uri": "https://localhost:8080/"
        },
        "id": "CyiQKzluqEWJ",
        "outputId": "14185ccc-09a7-496c-dacf-629dedf923cb"
      },
      "outputs": [
        {
          "output_type": "stream",
          "name": "stdout",
          "text": [
            "1\n",
            "3\n",
            "6\n",
            "10\n",
            "15\n",
            "21\n",
            "28\n",
            "36\n",
            "45\n",
            "55\n"
          ]
        }
      ],
      "source": [
        "import itertools\n",
        "for i in itertools.accumulate([1,2,3,4,5,6,7,8,9,10]):\n",
        "  print(i)"
      ]
    },
    {
      "cell_type": "markdown",
      "source": [
        "\n",
        "\n",
        "*   Hàm lặp (repeat):\n"
      ],
      "metadata": {
        "id": "6t416gYiqzwY"
      }
    },
    {
      "cell_type": "code",
      "source": [
        "for i in itertools.repeat('Red', 3):\n",
        "  print (i)"
      ],
      "metadata": {
        "colab": {
          "base_uri": "https://localhost:8080/"
        },
        "id": "-lXyYusAq3jK",
        "outputId": "b54bf96d-032d-45d0-f00f-4f7a47fe17a3"
      },
      "execution_count": null,
      "outputs": [
        {
          "output_type": "stream",
          "name": "stdout",
          "text": [
            "Red\n",
            "Red\n",
            "Red\n"
          ]
        }
      ]
    },
    {
      "cell_type": "markdown",
      "source": [
        "\n",
        "\n",
        "*   Tích Descartes:\n",
        "\n"
      ],
      "metadata": {
        "id": "izKBzndKq8lw"
      }
    },
    {
      "cell_type": "markdown",
      "source": [
        "*Phương pháp 1: Viết đoạn mã thuần bằng Python:*"
      ],
      "metadata": {
        "id": "OyqSOQUYrs2Z"
      }
    },
    {
      "cell_type": "code",
      "source": [
        "for i in ((i, j) for i in [1, 2] for j in [6, 7, 8, 9]):\n",
        "  print(i)"
      ],
      "metadata": {
        "colab": {
          "base_uri": "https://localhost:8080/"
        },
        "id": "f1Oqebx3rAxJ",
        "outputId": "5d33e16b-6765-4f7e-a45b-9200b0e97553"
      },
      "execution_count": null,
      "outputs": [
        {
          "output_type": "stream",
          "name": "stdout",
          "text": [
            "(1, 6)\n",
            "(1, 7)\n",
            "(1, 8)\n",
            "(1, 9)\n",
            "(2, 6)\n",
            "(2, 7)\n",
            "(2, 8)\n",
            "(2, 9)\n"
          ]
        }
      ]
    },
    {
      "cell_type": "markdown",
      "source": [
        "*Phương pháp 1: Viết đoạn mã thuần bằng Python:*"
      ],
      "metadata": {
        "id": "Dw7Sev-ErasJ"
      }
    },
    {
      "cell_type": "code",
      "source": [
        "import itertools\n",
        "for i in itertools.product([1, 2], [6, 7, 8, 9]):\n",
        "  print(i)"
      ],
      "metadata": {
        "colab": {
          "base_uri": "https://localhost:8080/"
        },
        "id": "b_-pQr5zrfNg",
        "outputId": "b95d8626-7e23-488b-ade6-e3117aae0426"
      },
      "execution_count": null,
      "outputs": [
        {
          "output_type": "stream",
          "name": "stdout",
          "text": [
            "(1, 6)\n",
            "(1, 7)\n",
            "(1, 8)\n",
            "(1, 9)\n",
            "(2, 6)\n",
            "(2, 7)\n",
            "(2, 8)\n",
            "(2, 9)\n"
          ]
        }
      ]
    },
    {
      "cell_type": "code",
      "source": [
        "import itertools\n",
        "for i in itertools.product('AB', 'C', 'DEF'):\n",
        "  print(i)"
      ],
      "metadata": {
        "colab": {
          "base_uri": "https://localhost:8080/"
        },
        "id": "GL8PMV-5spRA",
        "outputId": "8fb28a58-1445-4b6c-f8d3-e2775b85763d"
      },
      "execution_count": null,
      "outputs": [
        {
          "output_type": "stream",
          "name": "stdout",
          "text": [
            "('A', 'C', 'D')\n",
            "('A', 'C', 'E')\n",
            "('A', 'C', 'F')\n",
            "('B', 'C', 'D')\n",
            "('B', 'C', 'E')\n",
            "('B', 'C', 'F')\n"
          ]
        }
      ]
    },
    {
      "cell_type": "code",
      "source": [
        "for i in itertools.product('24', 'IT', repeat = 2):\n",
        "  print (i) "
      ],
      "metadata": {
        "colab": {
          "base_uri": "https://localhost:8080/"
        },
        "id": "v1hvS4EnsxSX",
        "outputId": "5343cefc-22e8-488c-e129-c128e87a8974"
      },
      "execution_count": null,
      "outputs": [
        {
          "output_type": "stream",
          "name": "stdout",
          "text": [
            "('2', 'I', '2', 'I')\n",
            "('2', 'I', '2', 'T')\n",
            "('2', 'I', '4', 'I')\n",
            "('2', 'I', '4', 'T')\n",
            "('2', 'T', '2', 'I')\n",
            "('2', 'T', '2', 'T')\n",
            "('2', 'T', '4', 'I')\n",
            "('2', 'T', '4', 'T')\n",
            "('4', 'I', '2', 'I')\n",
            "('4', 'I', '2', 'T')\n",
            "('4', 'I', '4', 'I')\n",
            "('4', 'I', '4', 'T')\n",
            "('4', 'T', '2', 'I')\n",
            "('4', 'T', '2', 'T')\n",
            "('4', 'T', '4', 'I')\n",
            "('4', 'T', '4', 'T')\n"
          ]
        }
      ]
    },
    {
      "cell_type": "markdown",
      "source": [
        "\n",
        "\n",
        "*   Hoán vị (permutation):\n",
        "\n"
      ],
      "metadata": {
        "id": "ZVcvA4NNs15n"
      }
    },
    {
      "cell_type": "code",
      "source": [
        "from itertools import permutations\n",
        "for i in permutations('ABC'):\n",
        "  print(i)"
      ],
      "metadata": {
        "colab": {
          "base_uri": "https://localhost:8080/"
        },
        "id": "UcFmbkEzs6k5",
        "outputId": "f5a029a5-4ef0-450c-ec5b-535154a1be0a"
      },
      "execution_count": null,
      "outputs": [
        {
          "output_type": "stream",
          "name": "stdout",
          "text": [
            "('A', 'B', 'C')\n",
            "('A', 'C', 'B')\n",
            "('B', 'A', 'C')\n",
            "('B', 'C', 'A')\n",
            "('C', 'A', 'B')\n",
            "('C', 'B', 'A')\n"
          ]
        }
      ]
    },
    {
      "cell_type": "markdown",
      "source": [
        "\n",
        "\n",
        "*   Chỉnh hợp chập k từ n (permutation):\n",
        "\n"
      ],
      "metadata": {
        "id": "oWYA9PeYtL2h"
      }
    },
    {
      "cell_type": "code",
      "source": [
        "from itertools import permutations\n",
        "for i in permutations('ABC', 2):\n",
        "  print(i)"
      ],
      "metadata": {
        "colab": {
          "base_uri": "https://localhost:8080/"
        },
        "id": "3FhRKKNHtNoQ",
        "outputId": "44713597-af4b-44b7-8005-a2446cb193dd"
      },
      "execution_count": null,
      "outputs": [
        {
          "output_type": "stream",
          "name": "stdout",
          "text": [
            "('A', 'B')\n",
            "('A', 'C')\n",
            "('B', 'A')\n",
            "('B', 'C')\n",
            "('C', 'A')\n",
            "('C', 'B')\n"
          ]
        }
      ]
    },
    {
      "cell_type": "markdown",
      "source": [
        "\n",
        "\n",
        "*   Tổ hợp (combinations):\n",
        "\n"
      ],
      "metadata": {
        "id": "yTG5y4GOtWJx"
      }
    },
    {
      "cell_type": "code",
      "source": [
        "for i in itertools.combinations('ABCDE', 3):\n",
        "  print(i)"
      ],
      "metadata": {
        "colab": {
          "base_uri": "https://localhost:8080/"
        },
        "id": "ioECLvAxtXcC",
        "outputId": "db57bc87-0a9c-42d1-e5f6-0bf021ad440a"
      },
      "execution_count": null,
      "outputs": [
        {
          "output_type": "stream",
          "name": "stdout",
          "text": [
            "('A', 'B', 'C')\n",
            "('A', 'B', 'D')\n",
            "('A', 'B', 'E')\n",
            "('A', 'C', 'D')\n",
            "('A', 'C', 'E')\n",
            "('A', 'D', 'E')\n",
            "('B', 'C', 'D')\n",
            "('B', 'C', 'E')\n",
            "('B', 'D', 'E')\n",
            "('C', 'D', 'E')\n"
          ]
        }
      ]
    },
    {
      "cell_type": "markdown",
      "source": [
        "*Ví dụ khác*"
      ],
      "metadata": {
        "id": "rWtSJHdJts5B"
      }
    },
    {
      "cell_type": "code",
      "source": [
        "import itertools\n",
        "nhaccu = 'Đàn Trống Sáo Bo'.split()\n",
        "chonmua2mon = list(itertools.combinations(nhaccu, 2))\n",
        "chonmua2mon"
      ],
      "metadata": {
        "colab": {
          "base_uri": "https://localhost:8080/"
        },
        "id": "qQivhDMDtxfS",
        "outputId": "bc756a7e-6da6-426f-c834-77b48a8fb55d"
      },
      "execution_count": null,
      "outputs": [
        {
          "output_type": "execute_result",
          "data": {
            "text/plain": [
              "[('Đàn', 'Trống'),\n",
              " ('Đàn', 'Sáo'),\n",
              " ('Đàn', 'Bo'),\n",
              " ('Trống', 'Sáo'),\n",
              " ('Trống', 'Bo'),\n",
              " ('Sáo', 'Bo')]"
            ]
          },
          "metadata": {},
          "execution_count": 13
        }
      ]
    },
    {
      "cell_type": "markdown",
      "source": [
        "\n",
        "\n",
        "*   Tổ hợp có lặp (combinations): \n",
        "\n"
      ],
      "metadata": {
        "id": "y5_wQPfgt6bI"
      }
    },
    {
      "cell_type": "code",
      "source": [
        "for i in itertools.combinations_with_replacement('ABCDE', 3):\n",
        "  print (i)"
      ],
      "metadata": {
        "colab": {
          "base_uri": "https://localhost:8080/"
        },
        "id": "YvxNCgaot8Yh",
        "outputId": "64631aaf-c8ad-4e81-d337-6f3de56dc6e2"
      },
      "execution_count": null,
      "outputs": [
        {
          "output_type": "stream",
          "name": "stdout",
          "text": [
            "('A', 'A', 'A')\n",
            "('A', 'A', 'B')\n",
            "('A', 'A', 'C')\n",
            "('A', 'A', 'D')\n",
            "('A', 'A', 'E')\n",
            "('A', 'B', 'B')\n",
            "('A', 'B', 'C')\n",
            "('A', 'B', 'D')\n",
            "('A', 'B', 'E')\n",
            "('A', 'C', 'C')\n",
            "('A', 'C', 'D')\n",
            "('A', 'C', 'E')\n",
            "('A', 'D', 'D')\n",
            "('A', 'D', 'E')\n",
            "('A', 'E', 'E')\n",
            "('B', 'B', 'B')\n",
            "('B', 'B', 'C')\n",
            "('B', 'B', 'D')\n",
            "('B', 'B', 'E')\n",
            "('B', 'C', 'C')\n",
            "('B', 'C', 'D')\n",
            "('B', 'C', 'E')\n",
            "('B', 'D', 'D')\n",
            "('B', 'D', 'E')\n",
            "('B', 'E', 'E')\n",
            "('C', 'C', 'C')\n",
            "('C', 'C', 'D')\n",
            "('C', 'C', 'E')\n",
            "('C', 'D', 'D')\n",
            "('C', 'D', 'E')\n",
            "('C', 'E', 'E')\n",
            "('D', 'D', 'D')\n",
            "('D', 'D', 'E')\n",
            "('D', 'E', 'E')\n",
            "('E', 'E', 'E')\n"
          ]
        }
      ]
    },
    {
      "cell_type": "markdown",
      "source": [
        "\n",
        "\n",
        "*   Xoay vòng giá trị cần lấy:\n"
      ],
      "metadata": {
        "id": "1ZcoYIbRuBAg"
      }
    },
    {
      "cell_type": "code",
      "source": [
        "for i in itertools.repeat('Red', 3):\n",
        "  print (i) "
      ],
      "metadata": {
        "colab": {
          "base_uri": "https://localhost:8080/"
        },
        "id": "G_uRWkuSuCdo",
        "outputId": "e683afae-c10a-46e4-912b-4bc3620c05bb"
      },
      "execution_count": null,
      "outputs": [
        {
          "output_type": "stream",
          "name": "stdout",
          "text": [
            "Red\n",
            "Red\n",
            "Red\n"
          ]
        }
      ]
    },
    {
      "cell_type": "markdown",
      "source": [
        "# 3. Ôn luyện cơ bản về Python: Hàm ngẫu nhiên toán học và lặp trong Python "
      ],
      "metadata": {
        "id": "fVzWq9P0uQ6g"
      }
    },
    {
      "cell_type": "markdown",
      "source": [
        "\n",
        "\n",
        "3.1.   Cơ bản về hàm ngẫu nhiên trong Python\n",
        "\n"
      ],
      "metadata": {
        "id": "OP3mAOIVuV_I"
      }
    },
    {
      "cell_type": "markdown",
      "source": [
        "+Chọn ngẫu nhiên trong tập hợp có sẵn: "
      ],
      "metadata": {
        "id": "aXXRN1HXudRX"
      }
    },
    {
      "cell_type": "code",
      "source": [
        "import random\n",
        "random.choice(['Táo', 'Lê', 'Ổi', 'Chuối'])"
      ],
      "metadata": {
        "colab": {
          "base_uri": "https://localhost:8080/",
          "height": 36
        },
        "id": "Yiq8rV-ZuZe_",
        "outputId": "8b04976d-8b3b-474f-f644-e43d4e51948a"
      },
      "execution_count": null,
      "outputs": [
        {
          "output_type": "execute_result",
          "data": {
            "text/plain": [
              "'Ổi'"
            ],
            "application/vnd.google.colaboratory.intrinsic+json": {
              "type": "string"
            }
          },
          "metadata": {},
          "execution_count": 16
        }
      ]
    },
    {
      "cell_type": "markdown",
      "source": [
        "+Phát sinh số thực ngẫu nhiên trong khoảng số thực [0,1):\n"
      ],
      "metadata": {
        "id": "3fclop8ruq3y"
      }
    },
    {
      "cell_type": "code",
      "source": [
        "random.random() # random số thực (float)"
      ],
      "metadata": {
        "colab": {
          "base_uri": "https://localhost:8080/"
        },
        "id": "lAnnb2O-uuNI",
        "outputId": "e425f8e8-7d99-46f3-f2ad-5fb2ec15bf1e"
      },
      "execution_count": null,
      "outputs": [
        {
          "output_type": "execute_result",
          "data": {
            "text/plain": [
              "0.13297807365501824"
            ]
          },
          "metadata": {},
          "execution_count": 17
        }
      ]
    },
    {
      "cell_type": "markdown",
      "source": [
        "+Phát sinh số thực ngẫu nhiên trong khoảng số thực [a,b): "
      ],
      "metadata": {
        "id": "kfxwi5n9uxk4"
      }
    },
    {
      "cell_type": "code",
      "source": [
        "random. uniform(4.9, 10.0) # a = 4.9 và b = 10, số ngẫu nhiên trong khoảng [4.9, 10.0)"
      ],
      "metadata": {
        "colab": {
          "base_uri": "https://localhost:8080/"
        },
        "id": "f9pQHOdzuygA",
        "outputId": "4ffa7264-5b5a-4324-c6c6-82b0ebe9b907"
      },
      "execution_count": null,
      "outputs": [
        {
          "output_type": "execute_result",
          "data": {
            "text/plain": [
              "7.028684989774272"
            ]
          },
          "metadata": {},
          "execution_count": 18
        }
      ]
    },
    {
      "cell_type": "markdown",
      "source": [
        "+Phát sinh số ngẫu nhiên trong khoảng 0 đến 5:"
      ],
      "metadata": {
        "id": "yWFSZw9Hu0nY"
      }
    },
    {
      "cell_type": "code",
      "source": [
        "random.randrange(6) "
      ],
      "metadata": {
        "colab": {
          "base_uri": "https://localhost:8080/"
        },
        "id": "rxbhChz-u2nZ",
        "outputId": "e81caaf9-7099-4faa-9455-744b557cab8d"
      },
      "execution_count": null,
      "outputs": [
        {
          "output_type": "execute_result",
          "data": {
            "text/plain": [
              "4"
            ]
          },
          "metadata": {},
          "execution_count": 20
        }
      ]
    },
    {
      "cell_type": "markdown",
      "source": [
        "+Phát sinh số ngẫu nhiên trong khoảng 50 đến 500: "
      ],
      "metadata": {
        "id": "PFfBGiXvu6E5"
      }
    },
    {
      "cell_type": "code",
      "source": [
        "random.randrange(50, 500) "
      ],
      "metadata": {
        "colab": {
          "base_uri": "https://localhost:8080/"
        },
        "id": "B6W-sJoUu84w",
        "outputId": "790bc85c-7ea3-42e7-ed1b-69149a566719"
      },
      "execution_count": null,
      "outputs": [
        {
          "output_type": "execute_result",
          "data": {
            "text/plain": [
              "54"
            ]
          },
          "metadata": {},
          "execution_count": 21
        }
      ]
    },
    {
      "cell_type": "markdown",
      "source": [
        "+Phát sinh số nguyên chẵn ngẫu nhiên trong khoảng 20 đến 100:"
      ],
      "metadata": {
        "id": "-eXleSbru_IB"
      }
    },
    {
      "cell_type": "code",
      "source": [
        "random.randrange(20, 100, 2) # số ngẫu nhiên chẵn do 20 là chẵn và bước nhảy bằng 2 "
      ],
      "metadata": {
        "colab": {
          "base_uri": "https://localhost:8080/"
        },
        "id": "t-QxN2eGvBmh",
        "outputId": "605073cb-18b1-4196-da1f-8b8029252dda"
      },
      "execution_count": null,
      "outputs": [
        {
          "output_type": "execute_result",
          "data": {
            "text/plain": [
              "98"
            ]
          },
          "metadata": {},
          "execution_count": 22
        }
      ]
    },
    {
      "cell_type": "markdown",
      "source": [
        "+Phát sinh ngẫu nhiên 10 giá trị trong khoảng 0 đến 99:"
      ],
      "metadata": {
        "id": "OvmJIk31vFAQ"
      }
    },
    {
      "cell_type": "code",
      "source": [
        "random.sample(range(100), 10) # với Python 2.x câu lệnh là: xrange(100)"
      ],
      "metadata": {
        "colab": {
          "base_uri": "https://localhost:8080/"
        },
        "id": "Nik0LutCvFs3",
        "outputId": "463746c0-4d8f-4734-f079-e38d6b46a33b"
      },
      "execution_count": null,
      "outputs": [
        {
          "output_type": "execute_result",
          "data": {
            "text/plain": [
              "[1, 17, 42, 89, 18, 72, 12, 9, 86, 79]"
            ]
          },
          "metadata": {},
          "execution_count": 23
        }
      ]
    },
    {
      "cell_type": "markdown",
      "source": [
        "+Phát sinh ngẫu nhiên 15 giá trị trong khoảng 10 đến 99: "
      ],
      "metadata": {
        "id": "MF6GMQy7vH3f"
      }
    },
    {
      "cell_type": "code",
      "source": [
        "random.sample(range(10, 100), 15) "
      ],
      "metadata": {
        "colab": {
          "base_uri": "https://localhost:8080/"
        },
        "id": "sR2L2P5kvJfY",
        "outputId": "a68c6752-6564-4455-abdb-b4217d1959a9"
      },
      "execution_count": null,
      "outputs": [
        {
          "output_type": "execute_result",
          "data": {
            "text/plain": [
              "[11, 38, 59, 93, 75, 71, 57, 13, 91, 96, 74, 24, 19, 82, 73]"
            ]
          },
          "metadata": {},
          "execution_count": 24
        }
      ]
    },
    {
      "cell_type": "markdown",
      "source": [
        "+Phát sinh ngẫu nhiên 5 giá trị trong danh sách [‘a’, ‘b’, ‘c’, ‘d’, ‘e’, ‘f’, ‘g’, ‘h’, ‘i’, ‘j’]:"
      ],
      "metadata": {
        "id": "pLospaPdvLKA"
      }
    },
    {
      "cell_type": "code",
      "source": [
        "chars = [\"a\", \"b\", \"c\", \"d\", \"e\", \"f\", \"g\", \"h\", \"i\", \"j\"]\n",
        "rand5_char = random.sample(chars, 5)\n",
        "print (rand5_char) "
      ],
      "metadata": {
        "colab": {
          "base_uri": "https://localhost:8080/"
        },
        "id": "hCbL5C5EvNaY",
        "outputId": "4a5a2d6e-6e78-4e1f-e0a2-6928cdd3b13c"
      },
      "execution_count": null,
      "outputs": [
        {
          "output_type": "stream",
          "name": "stdout",
          "text": [
            "['a', 'h', 'i', 'e', 'b']\n"
          ]
        }
      ]
    },
    {
      "cell_type": "markdown",
      "source": [
        "3.2. Ứng dụng minh họa: Vẽ ngẫu nhiên Eclipse"
      ],
      "metadata": {
        "id": "9lgLpdaVv6iB"
      }
    },
    {
      "cell_type": "code",
      "source": [
        "import matplotlib.pyplot as plt\n",
        "import numpy.random as rnd\n",
        "from matplotlib.patches import Ellipse\n",
        "\n",
        "NUM = 250 # Vẽ 250 eclipse ngẫu nhiên vị trí, góc:\n",
        "\n",
        "ells = [Ellipse (xy = rnd.rand(2)*10, width = rnd.rand(), height = rnd.rand(), angle = rnd.rand()*360)\n",
        "  for i in range (NUM) ]\n",
        "\n",
        "fig = plt.figure(0)\n",
        "ax = fig.add_subplot(111, aspect = 'equal')\n",
        "for e in ells:\n",
        "  ax.add_artist(e)\n",
        "  e.set_clip_box(ax.bbox)\n",
        "  e.set_alpha(rnd.rand())\n",
        "  e.set_facecolor(rnd.rand(3))\n",
        "\n",
        "ax.set_xlim(0, 10)\n",
        "ax.set_ylim(0, 10)\n",
        "\n",
        "plt.show"
      ],
      "metadata": {
        "colab": {
          "base_uri": "https://localhost:8080/",
          "height": 286
        },
        "id": "PTqUh7Myv7VC",
        "outputId": "2cf1ac27-01c1-4127-ab82-7c83123cf1a9"
      },
      "execution_count": null,
      "outputs": [
        {
          "output_type": "execute_result",
          "data": {
            "text/plain": [
              "<function matplotlib.pyplot.show>"
            ]
          },
          "metadata": {},
          "execution_count": 31
        },
        {
          "output_type": "display_data",
          "data": {
            "text/plain": [
              "<Figure size 432x288 with 1 Axes>"
            ],
            "image/png": "[encoded data removed]"
          },
          "metadata": {
            "needs_background": "light"
          }
        }
      ]
    },
    {
      "cell_type": "markdown",
      "source": [
        "3.3. Bài toán ứng dụng 1: Giới thiệu Roullete Wheel – “Chiếc nón kì diệu” "
      ],
      "metadata": {
        "id": "iZCSgIsNzOuz"
      }
    },
    {
      "cell_type": "code",
      "source": [
        "from __future__ import division\n",
        "import numpy as np\n",
        "import random,pdb\n",
        "import operator\n",
        "\n",
        "def roulette_selection(weights):\n",
        "  '''performs weighted selection or roulette wheel selection on a list And returns the index selected from the list'''\n",
        "\n",
        "  # sort the weights in ascending order\n",
        "  orted_indexed_weights  = sorted(enumerate(weights), key=operator.itemgetter(1)); indices, sorted_weights = zip(*sorted_indexed_weights);\n",
        "  # calculate the cumulative propability\n",
        "  tot_sum = sum(sorted_weights)\n",
        "  prob = [x/tot_sum for x in sorted_weights]\n",
        "  cum_prob=np.cumsum(prob)\n",
        "  # select random a number in the range [0,1]\n",
        "  random_num=random.random()\n",
        "\n",
        "  for index_value, cum_prob_value in zip(indices,cum_prob):\n",
        "    if random_num < cum_prob_value:\n",
        "      return index_value\n"
      ],
      "metadata": {
        "id": "2-96AIc1zPOu"
      },
      "execution_count": 2,
      "outputs": []
    },
    {
      "cell_type": "code",
      "source": [
        "xanhdo =[87, 3, 20] # khởi tạo các giá trị\n",
        "for i in range(20):\n",
        "  print (roulette_selection(xanhdo))"
      ],
      "metadata": {
        "id": "MJZ8DGy16fwG",
        "outputId": "c68cef1b-9e4f-4d9d-b841-99b5b966b06e",
        "colab": {
          "base_uri": "https://localhost:8080/",
          "height": 321
        }
      },
      "execution_count": 11,
      "outputs": [
        {
          "output_type": "error",
          "ename": "NameError",
          "evalue": "ignored",
          "traceback": [
            "\u001b[0;31m---------------------------------------------------------------------------\u001b[0m",
            "\u001b[0;31mNameError\u001b[0m                                 Traceback (most recent call last)",
            "\u001b[0;32m<ipython-input-11-e1e786d2f211>\u001b[0m in \u001b[0;36m<module>\u001b[0;34m()\u001b[0m\n\u001b[1;32m      1\u001b[0m \u001b[0mxanhdo\u001b[0m \u001b[0;34m=\u001b[0m\u001b[0;34m[\u001b[0m\u001b[0;36m87\u001b[0m\u001b[0;34m,\u001b[0m \u001b[0;36m3\u001b[0m\u001b[0;34m,\u001b[0m \u001b[0;36m20\u001b[0m\u001b[0;34m]\u001b[0m \u001b[0;31m# khởi tạo các giá trị\u001b[0m\u001b[0;34m\u001b[0m\u001b[0;34m\u001b[0m\u001b[0m\n\u001b[1;32m      2\u001b[0m \u001b[0;32mfor\u001b[0m \u001b[0mi\u001b[0m \u001b[0;32min\u001b[0m \u001b[0mrange\u001b[0m\u001b[0;34m(\u001b[0m\u001b[0;36m20\u001b[0m\u001b[0;34m)\u001b[0m\u001b[0;34m:\u001b[0m\u001b[0;34m\u001b[0m\u001b[0;34m\u001b[0m\u001b[0m\n\u001b[0;32m----> 3\u001b[0;31m   \u001b[0mprint\u001b[0m \u001b[0;34m(\u001b[0m\u001b[0mroulette_selection\u001b[0m\u001b[0;34m(\u001b[0m\u001b[0mxanhdo\u001b[0m\u001b[0;34m)\u001b[0m\u001b[0;34m)\u001b[0m\u001b[0;34m\u001b[0m\u001b[0;34m\u001b[0m\u001b[0m\n\u001b[0m",
            "\u001b[0;32m<ipython-input-2-d131041b9151>\u001b[0m in \u001b[0;36mroulette_selection\u001b[0;34m(weights)\u001b[0m\n\u001b[1;32m      8\u001b[0m \u001b[0;34m\u001b[0m\u001b[0m\n\u001b[1;32m      9\u001b[0m   \u001b[0;31m# sort the weights in ascending order\u001b[0m\u001b[0;34m\u001b[0m\u001b[0;34m\u001b[0m\u001b[0;34m\u001b[0m\u001b[0m\n\u001b[0;32m---> 10\u001b[0;31m   \u001b[0morted_indexed_weights\u001b[0m  \u001b[0;34m=\u001b[0m \u001b[0msorted\u001b[0m\u001b[0;34m(\u001b[0m\u001b[0menumerate\u001b[0m\u001b[0;34m(\u001b[0m\u001b[0mweights\u001b[0m\u001b[0;34m)\u001b[0m\u001b[0;34m,\u001b[0m \u001b[0mkey\u001b[0m\u001b[0;34m=\u001b[0m\u001b[0moperator\u001b[0m\u001b[0;34m.\u001b[0m\u001b[0mitemgetter\u001b[0m\u001b[0;34m(\u001b[0m\u001b[0;36m1\u001b[0m\u001b[0;34m)\u001b[0m\u001b[0;34m)\u001b[0m\u001b[0;34m;\u001b[0m \u001b[0mindices\u001b[0m\u001b[0;34m,\u001b[0m \u001b[0msorted_weights\u001b[0m \u001b[0;34m=\u001b[0m \u001b[0mzip\u001b[0m\u001b[0;34m(\u001b[0m\u001b[0;34m*\u001b[0m\u001b[0msorted_indexed_weights\u001b[0m\u001b[0;34m)\u001b[0m\u001b[0;34m;\u001b[0m\u001b[0;34m\u001b[0m\u001b[0;34m\u001b[0m\u001b[0m\n\u001b[0m\u001b[1;32m     11\u001b[0m   \u001b[0;31m# calculate the cumulative propability\u001b[0m\u001b[0;34m\u001b[0m\u001b[0;34m\u001b[0m\u001b[0;34m\u001b[0m\u001b[0m\n\u001b[1;32m     12\u001b[0m   \u001b[0mtot_sum\u001b[0m \u001b[0;34m=\u001b[0m \u001b[0msum\u001b[0m\u001b[0;34m(\u001b[0m\u001b[0msorted_weights\u001b[0m\u001b[0;34m)\u001b[0m\u001b[0;34m\u001b[0m\u001b[0;34m\u001b[0m\u001b[0m\n",
            "\u001b[0;31mNameError\u001b[0m: name 'sorted_indexed_weights' is not defined"
          ]
        }
      ]
    },
    {
      "cell_type": "code",
      "source": [
        "xanhdo =[27, 3, 30] # khởi tạo các giá trị: đèn xanh gần bằng đèn đỏ\n",
        "for i in range(20):\n",
        "  print (roulette_selection(xanhdo)) "
      ],
      "metadata": {
        "id": "PoJCpM6zwxYB",
        "outputId": "6af0c8e8-280d-4db4-f60c-9ad574dee4da",
        "colab": {
          "base_uri": "https://localhost:8080/",
          "height": 321
        }
      },
      "execution_count": 12,
      "outputs": [
        {
          "output_type": "error",
          "ename": "NameError",
          "evalue": "ignored",
          "traceback": [
            "\u001b[0;31m---------------------------------------------------------------------------\u001b[0m",
            "\u001b[0;31mNameError\u001b[0m                                 Traceback (most recent call last)",
            "\u001b[0;32m<ipython-input-12-29b29710445e>\u001b[0m in \u001b[0;36m<module>\u001b[0;34m()\u001b[0m\n\u001b[1;32m      1\u001b[0m \u001b[0mxanhdo\u001b[0m \u001b[0;34m=\u001b[0m\u001b[0;34m[\u001b[0m\u001b[0;36m27\u001b[0m\u001b[0;34m,\u001b[0m \u001b[0;36m3\u001b[0m\u001b[0;34m,\u001b[0m \u001b[0;36m30\u001b[0m\u001b[0;34m]\u001b[0m \u001b[0;31m# khởi tạo các giá trị: đèn xanh gần bằng đèn đỏ\u001b[0m\u001b[0;34m\u001b[0m\u001b[0;34m\u001b[0m\u001b[0m\n\u001b[1;32m      2\u001b[0m \u001b[0;32mfor\u001b[0m \u001b[0mi\u001b[0m \u001b[0;32min\u001b[0m \u001b[0mrange\u001b[0m\u001b[0;34m(\u001b[0m\u001b[0;36m20\u001b[0m\u001b[0;34m)\u001b[0m\u001b[0;34m:\u001b[0m\u001b[0;34m\u001b[0m\u001b[0;34m\u001b[0m\u001b[0m\n\u001b[0;32m----> 3\u001b[0;31m   \u001b[0mprint\u001b[0m \u001b[0;34m(\u001b[0m\u001b[0mroulette_selection\u001b[0m\u001b[0;34m(\u001b[0m\u001b[0mxanhdo\u001b[0m\u001b[0;34m)\u001b[0m\u001b[0;34m)\u001b[0m\u001b[0;34m\u001b[0m\u001b[0;34m\u001b[0m\u001b[0m\n\u001b[0m",
            "\u001b[0;32m<ipython-input-2-d131041b9151>\u001b[0m in \u001b[0;36mroulette_selection\u001b[0;34m(weights)\u001b[0m\n\u001b[1;32m      8\u001b[0m \u001b[0;34m\u001b[0m\u001b[0m\n\u001b[1;32m      9\u001b[0m   \u001b[0;31m# sort the weights in ascending order\u001b[0m\u001b[0;34m\u001b[0m\u001b[0;34m\u001b[0m\u001b[0;34m\u001b[0m\u001b[0m\n\u001b[0;32m---> 10\u001b[0;31m   \u001b[0morted_indexed_weights\u001b[0m  \u001b[0;34m=\u001b[0m \u001b[0msorted\u001b[0m\u001b[0;34m(\u001b[0m\u001b[0menumerate\u001b[0m\u001b[0;34m(\u001b[0m\u001b[0mweights\u001b[0m\u001b[0;34m)\u001b[0m\u001b[0;34m,\u001b[0m \u001b[0mkey\u001b[0m\u001b[0;34m=\u001b[0m\u001b[0moperator\u001b[0m\u001b[0;34m.\u001b[0m\u001b[0mitemgetter\u001b[0m\u001b[0;34m(\u001b[0m\u001b[0;36m1\u001b[0m\u001b[0;34m)\u001b[0m\u001b[0;34m)\u001b[0m\u001b[0;34m;\u001b[0m \u001b[0mindices\u001b[0m\u001b[0;34m,\u001b[0m \u001b[0msorted_weights\u001b[0m \u001b[0;34m=\u001b[0m \u001b[0mzip\u001b[0m\u001b[0;34m(\u001b[0m\u001b[0;34m*\u001b[0m\u001b[0msorted_indexed_weights\u001b[0m\u001b[0;34m)\u001b[0m\u001b[0;34m;\u001b[0m\u001b[0;34m\u001b[0m\u001b[0;34m\u001b[0m\u001b[0m\n\u001b[0m\u001b[1;32m     11\u001b[0m   \u001b[0;31m# calculate the cumulative propability\u001b[0m\u001b[0;34m\u001b[0m\u001b[0;34m\u001b[0m\u001b[0;34m\u001b[0m\u001b[0m\n\u001b[1;32m     12\u001b[0m   \u001b[0mtot_sum\u001b[0m \u001b[0;34m=\u001b[0m \u001b[0msum\u001b[0m\u001b[0;34m(\u001b[0m\u001b[0msorted_weights\u001b[0m\u001b[0;34m)\u001b[0m\u001b[0;34m\u001b[0m\u001b[0;34m\u001b[0m\u001b[0m\n",
            "\u001b[0;31mNameError\u001b[0m: name 'sorted_indexed_weights' is not defined"
          ]
        }
      ]
    },
    {
      "cell_type": "markdown",
      "source": [
        "# 4. Tập phủ trùm tối thiểu (Set Cover Problem) "
      ],
      "metadata": {
        "id": "YWwtzu4kydjJ"
      }
    },
    {
      "cell_type": "code",
      "source": [
        ""
      ],
      "metadata": {
        "id": "5npUawzxyi30"
      },
      "execution_count": null,
      "outputs": []
    }
  ]
}