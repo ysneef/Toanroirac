{
  "nbformat": 4,
  "nbformat_minor": 0,
  "metadata": {
    "colab": {
      "name": "Chuong3.ipynb",
      "provenance": [],
      "authorship_tag": "ABX9TyPB1CgAN0HBH++bjGghnO3T",
      "include_colab_link": true
    },
    "kernelspec": {
      "name": "python3",
      "display_name": "Python 3"
    },
    "language_info": {
      "name": "python"
    }
  },
  "cells": [
    {
      "cell_type": "markdown",
      "metadata": {
        "id": "view-in-github",
        "colab_type": "text"
      },
      "source": [
        "<a href=\"https://colab.research.google.com/github/ysneef/Toanroirac/blob/main/Chuong3.ipynb\" target=\"_parent\"><img src=\"https://colab.research.google.com/assets/colab-badge.svg\" alt=\"Open In Colab\"/></a>"
      ]
    },
    {
      "cell_type": "markdown",
      "source": [
        "# 1.1. Các nguyên lý"
      ],
      "metadata": {
        "id": "X-e1x9rOiEo2"
      }
    },
    {
      "cell_type": "markdown",
      "source": [
        "+ Liệt kê cầu thủ bóng đá Việt Nam:"
      ],
      "metadata": {
        "id": "mdVU3rWQiXRb"
      }
    },
    {
      "cell_type": "code",
      "execution_count": 3,
      "metadata": {
        "colab": {
          "base_uri": "https://localhost:8080/"
        },
        "id": "Xj9fNtnSiB2Y",
        "outputId": "d494cb61-de8b-4ce7-a42f-df9397e1c02e"
      },
      "outputs": [
        {
          "output_type": "stream",
          "name": "stdout",
          "text": [
            "Ten cau thu VietNam:  Văn Lâm\n",
            "Ten cau thu VietNam:  Tiến Dũng\n",
            "Ten cau thu VietNam:  Anh Đức\n",
            "Ten cau thu VietNam:  Công Phượng\n"
          ]
        }
      ],
      "source": [
        "bongda_VN = [\"Văn Lâm\", \"Tiến Dũng\", \"Anh Đức\", \"Công Phượng\"]\n",
        "for cau_thu in bongda_VN:\n",
        "  print (\"Ten cau thu VietNam: \", cau_thu)"
      ]
    },
    {
      "cell_type": "markdown",
      "source": [
        "+ Liệt kê số cầu thủ bóng đá thế giới"
      ],
      "metadata": {
        "id": "1vwMtZm6i4MV"
      }
    },
    {
      "cell_type": "code",
      "source": [
        "bongda_TG = [\"Messi\", \"Ronaldo\", \"Thonglao\", \"Mbappé\"] \n",
        "for cau_thu in bongda_TG:\n",
        "  print (\"Ten cau thu The gioi: \", cau_thu)"
      ],
      "metadata": {
        "colab": {
          "base_uri": "https://localhost:8080/"
        },
        "id": "hlLt5jhSiptg",
        "outputId": "c615dfa8-fccc-4112-ed0c-989515f9a4ca"
      },
      "execution_count": 4,
      "outputs": [
        {
          "output_type": "stream",
          "name": "stdout",
          "text": [
            "Ten cau thu The gioi:  Messi\n",
            "Ten cau thu The gioi:  Ronaldo\n",
            "Ten cau thu The gioi:  Thonglao\n",
            "Ten cau thu The gioi:  Mbappé\n"
          ]
        }
      ]
    },
    {
      "cell_type": "markdown",
      "source": [
        "Tìm sự tranh chấp Quả bóng vàng giữa cầu thủ Việt Nam và Thế giới là\n",
        "sự chọn 1 từ mỗi tập, số trường hợp được liệt kê là tích của số lượng phần tử của 2 tập"
      ],
      "metadata": {
        "id": "5Q212PHZjUj5"
      }
    },
    {
      "cell_type": "code",
      "source": [
        "for bong_VN in bongda_VN:\n",
        "  for bong_TG in bongda_TG: \n",
        "    print (\"Khả năng tranh chấp quả bóng vàng giữa: \", bong_VN, \" với \", bong_TG)"
      ],
      "metadata": {
        "colab": {
          "base_uri": "https://localhost:8080/"
        },
        "id": "wVNpSc_2jVzc",
        "outputId": "a89a030c-68fe-446d-830b-e12fa1c92e7f"
      },
      "execution_count": 5,
      "outputs": [
        {
          "output_type": "stream",
          "name": "stdout",
          "text": [
            "Khả năng tranh chấp quả bóng vàng giữa:  Văn Lâm  với  Messi\n",
            "Khả năng tranh chấp quả bóng vàng giữa:  Văn Lâm  với  Ronaldo\n",
            "Khả năng tranh chấp quả bóng vàng giữa:  Văn Lâm  với  Thonglao\n",
            "Khả năng tranh chấp quả bóng vàng giữa:  Văn Lâm  với  Mbappé\n",
            "Khả năng tranh chấp quả bóng vàng giữa:  Tiến Dũng  với  Messi\n",
            "Khả năng tranh chấp quả bóng vàng giữa:  Tiến Dũng  với  Ronaldo\n",
            "Khả năng tranh chấp quả bóng vàng giữa:  Tiến Dũng  với  Thonglao\n",
            "Khả năng tranh chấp quả bóng vàng giữa:  Tiến Dũng  với  Mbappé\n",
            "Khả năng tranh chấp quả bóng vàng giữa:  Anh Đức  với  Messi\n",
            "Khả năng tranh chấp quả bóng vàng giữa:  Anh Đức  với  Ronaldo\n",
            "Khả năng tranh chấp quả bóng vàng giữa:  Anh Đức  với  Thonglao\n",
            "Khả năng tranh chấp quả bóng vàng giữa:  Anh Đức  với  Mbappé\n",
            "Khả năng tranh chấp quả bóng vàng giữa:  Công Phượng  với  Messi\n",
            "Khả năng tranh chấp quả bóng vàng giữa:  Công Phượng  với  Ronaldo\n",
            "Khả năng tranh chấp quả bóng vàng giữa:  Công Phượng  với  Thonglao\n",
            "Khả năng tranh chấp quả bóng vàng giữa:  Công Phượng  với  Mbappé\n"
          ]
        }
      ]
    },
    {
      "cell_type": "markdown",
      "source": [
        "+ Ví dụ 1"
      ],
      "metadata": {
        "id": "bv9h2Zpajd9f"
      }
    },
    {
      "cell_type": "code",
      "source": [
        "N = 4\n",
        "for i1 in range(0, N):\n",
        "  for i2 in range(0, N):\n",
        "    for i3 in range(0, N):\n",
        "      print (i1, i2, i3) "
      ],
      "metadata": {
        "colab": {
          "base_uri": "https://localhost:8080/"
        },
        "id": "qUQaCMK8jfxm",
        "outputId": "4f198178-90f7-4900-98d0-efe5f4d33098"
      },
      "execution_count": 6,
      "outputs": [
        {
          "output_type": "stream",
          "name": "stdout",
          "text": [
            "0 0 0\n",
            "0 0 1\n",
            "0 0 2\n",
            "0 0 3\n",
            "0 1 0\n",
            "0 1 1\n",
            "0 1 2\n",
            "0 1 3\n",
            "0 2 0\n",
            "0 2 1\n",
            "0 2 2\n",
            "0 2 3\n",
            "0 3 0\n",
            "0 3 1\n",
            "0 3 2\n",
            "0 3 3\n",
            "1 0 0\n",
            "1 0 1\n",
            "1 0 2\n",
            "1 0 3\n",
            "1 1 0\n",
            "1 1 1\n",
            "1 1 2\n",
            "1 1 3\n",
            "1 2 0\n",
            "1 2 1\n",
            "1 2 2\n",
            "1 2 3\n",
            "1 3 0\n",
            "1 3 1\n",
            "1 3 2\n",
            "1 3 3\n",
            "2 0 0\n",
            "2 0 1\n",
            "2 0 2\n",
            "2 0 3\n",
            "2 1 0\n",
            "2 1 1\n",
            "2 1 2\n",
            "2 1 3\n",
            "2 2 0\n",
            "2 2 1\n",
            "2 2 2\n",
            "2 2 3\n",
            "2 3 0\n",
            "2 3 1\n",
            "2 3 2\n",
            "2 3 3\n",
            "3 0 0\n",
            "3 0 1\n",
            "3 0 2\n",
            "3 0 3\n",
            "3 1 0\n",
            "3 1 1\n",
            "3 1 2\n",
            "3 1 3\n",
            "3 2 0\n",
            "3 2 1\n",
            "3 2 2\n",
            "3 2 3\n",
            "3 3 0\n",
            "3 3 1\n",
            "3 3 2\n",
            "3 3 3\n"
          ]
        }
      ]
    },
    {
      "cell_type": "markdown",
      "source": [
        "+ Ví dụ 2"
      ],
      "metadata": {
        "id": "hUrR6D3vjraQ"
      }
    },
    {
      "cell_type": "code",
      "source": [
        "for i1 in range(0, N):\n",
        "  for i2 in range(0, N):\n",
        "    for i3 in range(0, N):\n",
        "      if i1 != i2 and i2 != i3 and i1 != i3:\n",
        "        print (i1, i2, i3) "
      ],
      "metadata": {
        "colab": {
          "base_uri": "https://localhost:8080/"
        },
        "id": "hmpGNpZ3jvvD",
        "outputId": "faaba60c-7c4f-4a17-8870-d763073db667"
      },
      "execution_count": 7,
      "outputs": [
        {
          "output_type": "stream",
          "name": "stdout",
          "text": [
            "0 1 2\n",
            "0 1 3\n",
            "0 2 1\n",
            "0 2 3\n",
            "0 3 1\n",
            "0 3 2\n",
            "1 0 2\n",
            "1 0 3\n",
            "1 2 0\n",
            "1 2 3\n",
            "1 3 0\n",
            "1 3 2\n",
            "2 0 1\n",
            "2 0 3\n",
            "2 1 0\n",
            "2 1 3\n",
            "2 3 0\n",
            "2 3 1\n",
            "3 0 1\n",
            "3 0 2\n",
            "3 1 0\n",
            "3 1 2\n",
            "3 2 0\n",
            "3 2 1\n"
          ]
        }
      ]
    },
    {
      "cell_type": "markdown",
      "source": [
        "+ Ví dụ 3"
      ],
      "metadata": {
        "id": "2orl_f7Kj3e-"
      }
    },
    {
      "cell_type": "code",
      "source": [
        "for i1 in range(0, N):\n",
        "  for i2 in range(i1+1, N):\n",
        "    for i3 in range(i2+1, N):\n",
        "      print (i1, i2, i3) "
      ],
      "metadata": {
        "colab": {
          "base_uri": "https://localhost:8080/"
        },
        "id": "2UNl8eesj6D1",
        "outputId": "5895fa9d-c872-4bc0-a8e3-99ba6b794978"
      },
      "execution_count": 8,
      "outputs": [
        {
          "output_type": "stream",
          "name": "stdout",
          "text": [
            "0 1 2\n",
            "0 1 3\n",
            "0 2 3\n",
            "1 2 3\n"
          ]
        }
      ]
    },
    {
      "cell_type": "markdown",
      "source": [
        "+ Ví dụ 4"
      ],
      "metadata": {
        "id": "10tFbpZekAfu"
      }
    },
    {
      "cell_type": "code",
      "source": [
        "for i1 in range(0, N):\n",
        "  for i2 in range(i1, N):\n",
        "    for i3 in range(i2, N):\n",
        "      print (i1, i2, i3) "
      ],
      "metadata": {
        "colab": {
          "base_uri": "https://localhost:8080/"
        },
        "id": "NvoiKHzgkCAa",
        "outputId": "35cde80b-1dc7-4e20-ea58-1226710153ca"
      },
      "execution_count": 9,
      "outputs": [
        {
          "output_type": "stream",
          "name": "stdout",
          "text": [
            "0 0 0\n",
            "0 0 1\n",
            "0 0 2\n",
            "0 0 3\n",
            "0 1 1\n",
            "0 1 2\n",
            "0 1 3\n",
            "0 2 2\n",
            "0 2 3\n",
            "0 3 3\n",
            "1 1 1\n",
            "1 1 2\n",
            "1 1 3\n",
            "1 2 2\n",
            "1 2 3\n",
            "1 3 3\n",
            "2 2 2\n",
            "2 2 3\n",
            "2 3 3\n",
            "3 3 3\n"
          ]
        }
      ]
    },
    {
      "cell_type": "code",
      "source": [
        "N = 3\n",
        "ketqua = []\n",
        "for i1 in range(0, N):\n",
        "  for i2 in range(i1, N):\n",
        "    for i3 in range(i2, N):\n",
        "      ketqua = ketqua + [(i1, i2, i3)]"
      ],
      "metadata": {
        "id": "tdzl_SLNkJP5"
      },
      "execution_count": 13,
      "outputs": []
    },
    {
      "cell_type": "code",
      "source": [
        "ketqua"
      ],
      "metadata": {
        "colab": {
          "base_uri": "https://localhost:8080/"
        },
        "id": "5ODWAEApks-c",
        "outputId": "3f2e1f26-98f2-45d0-ba35-b3e076b0aa7f"
      },
      "execution_count": 14,
      "outputs": [
        {
          "output_type": "execute_result",
          "data": {
            "text/plain": [
              "[(0, 0, 0),\n",
              " (0, 0, 1),\n",
              " (0, 0, 2),\n",
              " (0, 1, 1),\n",
              " (0, 1, 2),\n",
              " (0, 2, 2),\n",
              " (1, 1, 1),\n",
              " (1, 1, 2),\n",
              " (1, 2, 2),\n",
              " (2, 2, 2)]"
            ]
          },
          "metadata": {},
          "execution_count": 14
        }
      ]
    },
    {
      "cell_type": "code",
      "source": [
        "ketqua[3]"
      ],
      "metadata": {
        "colab": {
          "base_uri": "https://localhost:8080/"
        },
        "id": "6c411Q3Qk5n1",
        "outputId": "8d6926c2-599f-41b8-ee57-2aaa4f662347"
      },
      "execution_count": 15,
      "outputs": [
        {
          "output_type": "execute_result",
          "data": {
            "text/plain": [
              "(0, 1, 1)"
            ]
          },
          "metadata": {},
          "execution_count": 15
        }
      ]
    },
    {
      "cell_type": "markdown",
      "source": [
        "# 1.2. Thể hiện biểu thức luận lý bằng Python"
      ],
      "metadata": {
        "id": "m0LK68IVk8Y3"
      }
    }
  ]
}