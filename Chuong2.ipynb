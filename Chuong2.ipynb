{
  "nbformat": 4,
  "nbformat_minor": 0,
  "metadata": {
    "colab": {
      "name": "Untitled7.ipynb",
      "provenance": [],
      "collapsed_sections": [],
      "authorship_tag": "ABX9TyNg3GWhLV79yOTAkX9RA5A4",
      "include_colab_link": true
    },
    "kernelspec": {
      "name": "python3",
      "display_name": "Python 3"
    },
    "language_info": {
      "name": "python"
    }
  },
  "cells": [
    {
      "cell_type": "markdown",
      "metadata": {
        "id": "view-in-github",
        "colab_type": "text"
      },
      "source": [
        "<a href=\"https://colab.research.google.com/github/ysneef/Toanroirac/blob/main/Chuong2.ipynb\" target=\"_parent\"><img src=\"https://colab.research.google.com/assets/colab-badge.svg\" alt=\"Open In Colab\"/></a>"
      ]
    },
    {
      "cell_type": "markdown",
      "source": [
        "# 1.1. Viết hàm trong Python"
      ],
      "metadata": {
        "id": "udifGBP-hLNU"
      }
    },
    {
      "cell_type": "code",
      "execution_count": 7,
      "metadata": {
        "id": "51yrl4bKdDHl"
      },
      "outputs": [],
      "source": [
        "def luythua(x, n):\n",
        "  ketqua = 1\n",
        "  for i in range(n):\n",
        "    ketqua = ketqua *x\n",
        "  return ketqua"
      ]
    },
    {
      "cell_type": "code",
      "source": [
        "luythua(2,1)\n"
      ],
      "metadata": {
        "colab": {
          "base_uri": "https://localhost:8080/",
          "height": 0
        },
        "id": "-epMcr3jeeqA",
        "outputId": "4e4b8140-8715-4446-9113-12d245cf5b24"
      },
      "execution_count": 8,
      "outputs": [
        {
          "output_type": "execute_result",
          "data": {
            "text/plain": [
              "2"
            ]
          },
          "metadata": {},
          "execution_count": 8
        }
      ]
    },
    {
      "cell_type": "code",
      "source": [
        "luythua(2,0)"
      ],
      "metadata": {
        "colab": {
          "base_uri": "https://localhost:8080/",
          "height": 0
        },
        "id": "ALUxzs7kef11",
        "outputId": "96a0650c-417d-46bc-d2be-b4b7ff7f30f1"
      },
      "execution_count": 9,
      "outputs": [
        {
          "output_type": "execute_result",
          "data": {
            "text/plain": [
              "1"
            ]
          },
          "metadata": {},
          "execution_count": 9
        }
      ]
    },
    {
      "cell_type": "markdown",
      "source": [
        "# 1.2. Kiểu dữ liệu tập hợp (set) trong Python "
      ],
      "metadata": {
        "id": "PzF85nfje0Jm"
      }
    },
    {
      "cell_type": "markdown",
      "source": [
        "Ví dụ 1:\n"
      ],
      "metadata": {
        "id": "YbzAdCuoha3M"
      }
    },
    {
      "cell_type": "code",
      "source": [
        "{2, 4, 6} "
      ],
      "metadata": {
        "colab": {
          "base_uri": "https://localhost:8080/",
          "height": 0
        },
        "id": "3nScwG4HfKeV",
        "outputId": "02d4eccb-0127-4ebf-bcab-11ebf0a2cc4b"
      },
      "execution_count": 12,
      "outputs": [
        {
          "output_type": "execute_result",
          "data": {
            "text/plain": [
              "{2, 4, 6}"
            ]
          },
          "metadata": {},
          "execution_count": 12
        }
      ]
    },
    {
      "cell_type": "markdown",
      "source": [
        "Ví dụ 2:"
      ],
      "metadata": {
        "id": "uzhNr_LnfNLM"
      }
    },
    {
      "cell_type": "code",
      "source": [
        "{ n for n in range(100) if n % 2 == 1}"
      ],
      "metadata": {
        "colab": {
          "base_uri": "https://localhost:8080/",
          "height": 0
        },
        "id": "zCw0VV7Ke2Rm",
        "outputId": "b5b145e0-b95c-414a-83df-e042628d3c1e"
      },
      "execution_count": 11,
      "outputs": [
        {
          "output_type": "execute_result",
          "data": {
            "text/plain": [
              "{1,\n",
              " 3,\n",
              " 5,\n",
              " 7,\n",
              " 9,\n",
              " 11,\n",
              " 13,\n",
              " 15,\n",
              " 17,\n",
              " 19,\n",
              " 21,\n",
              " 23,\n",
              " 25,\n",
              " 27,\n",
              " 29,\n",
              " 31,\n",
              " 33,\n",
              " 35,\n",
              " 37,\n",
              " 39,\n",
              " 41,\n",
              " 43,\n",
              " 45,\n",
              " 47,\n",
              " 49,\n",
              " 51,\n",
              " 53,\n",
              " 55,\n",
              " 57,\n",
              " 59,\n",
              " 61,\n",
              " 63,\n",
              " 65,\n",
              " 67,\n",
              " 69,\n",
              " 71,\n",
              " 73,\n",
              " 75,\n",
              " 77,\n",
              " 79,\n",
              " 81,\n",
              " 83,\n",
              " 85,\n",
              " 87,\n",
              " 89,\n",
              " 91,\n",
              " 93,\n",
              " 95,\n",
              " 97,\n",
              " 99}"
            ]
          },
          "metadata": {},
          "execution_count": 11
        }
      ]
    },
    {
      "cell_type": "markdown",
      "source": [
        "Ví dụ 3:"
      ],
      "metadata": {
        "id": "oS5aBGHbfbFs"
      }
    },
    {
      "cell_type": "code",
      "source": [
        "tap_rong = set()\n",
        "print (tap_rong)\n",
        "setA = { n for n in range(100) if n % 2 == 1 }\n",
        "setB = { n for n in range(100) if n % 2 == 1 } "
      ],
      "metadata": {
        "colab": {
          "base_uri": "https://localhost:8080/",
          "height": 0
        },
        "id": "0sC7vp08fe7U",
        "outputId": "1560a9b5-6ac6-46ee-a247-cdc8e4f1dc6a"
      },
      "execution_count": 21,
      "outputs": [
        {
          "output_type": "stream",
          "name": "stdout",
          "text": [
            "set()\n"
          ]
        }
      ]
    },
    {
      "cell_type": "code",
      "source": [
        "setA & setB "
      ],
      "metadata": {
        "colab": {
          "base_uri": "https://localhost:8080/",
          "height": 0
        },
        "id": "UVhlqzNMgryc",
        "outputId": "91bb63d3-dd7c-4118-fcbc-80c3e015916c"
      },
      "execution_count": 23,
      "outputs": [
        {
          "output_type": "execute_result",
          "data": {
            "text/plain": [
              "{1,\n",
              " 3,\n",
              " 5,\n",
              " 7,\n",
              " 9,\n",
              " 11,\n",
              " 13,\n",
              " 15,\n",
              " 17,\n",
              " 19,\n",
              " 21,\n",
              " 23,\n",
              " 25,\n",
              " 27,\n",
              " 29,\n",
              " 31,\n",
              " 33,\n",
              " 35,\n",
              " 37,\n",
              " 39,\n",
              " 41,\n",
              " 43,\n",
              " 45,\n",
              " 47,\n",
              " 49,\n",
              " 51,\n",
              " 53,\n",
              " 55,\n",
              " 57,\n",
              " 59,\n",
              " 61,\n",
              " 63,\n",
              " 65,\n",
              " 67,\n",
              " 69,\n",
              " 71,\n",
              " 73,\n",
              " 75,\n",
              " 77,\n",
              " 79,\n",
              " 81,\n",
              " 83,\n",
              " 85,\n",
              " 87,\n",
              " 89,\n",
              " 91,\n",
              " 93,\n",
              " 95,\n",
              " 97,\n",
              " 99}"
            ]
          },
          "metadata": {},
          "execution_count": 23
        }
      ]
    },
    {
      "cell_type": "code",
      "source": [
        "setA - setB "
      ],
      "metadata": {
        "colab": {
          "base_uri": "https://localhost:8080/",
          "height": 0
        },
        "id": "YqE5YQH3gvhk",
        "outputId": "4cd8b60c-6410-4ab0-d9f8-377552384dbc"
      },
      "execution_count": 24,
      "outputs": [
        {
          "output_type": "execute_result",
          "data": {
            "text/plain": [
              "set()"
            ]
          },
          "metadata": {},
          "execution_count": 24
        }
      ]
    },
    {
      "cell_type": "code",
      "source": [
        "setA < setB "
      ],
      "metadata": {
        "colab": {
          "base_uri": "https://localhost:8080/",
          "height": 0
        },
        "id": "BxIj_MfEgyWF",
        "outputId": "f5e05d3b-3069-4405-c261-38fa9934787b"
      },
      "execution_count": 26,
      "outputs": [
        {
          "output_type": "execute_result",
          "data": {
            "text/plain": [
              "False"
            ]
          },
          "metadata": {},
          "execution_count": 26
        }
      ]
    },
    {
      "cell_type": "code",
      "source": [
        "setA <= setB "
      ],
      "metadata": {
        "colab": {
          "base_uri": "https://localhost:8080/",
          "height": 0
        },
        "id": "AqYc2UzZg2Lc",
        "outputId": "7a8ebac2-d2a2-4bf1-f1f2-b637d5bf0afc"
      },
      "execution_count": 27,
      "outputs": [
        {
          "output_type": "execute_result",
          "data": {
            "text/plain": [
              "True"
            ]
          },
          "metadata": {},
          "execution_count": 27
        }
      ]
    },
    {
      "cell_type": "code",
      "source": [
        "10 in setA "
      ],
      "metadata": {
        "colab": {
          "base_uri": "https://localhost:8080/",
          "height": 0
        },
        "id": "Y-zJYcljg2Mk",
        "outputId": "67d038ae-8e0a-4c2f-87a1-27722395dbc9"
      },
      "execution_count": 28,
      "outputs": [
        {
          "output_type": "execute_result",
          "data": {
            "text/plain": [
              "False"
            ]
          },
          "metadata": {},
          "execution_count": 28
        }
      ]
    },
    {
      "cell_type": "code",
      "source": [
        "11 in setA "
      ],
      "metadata": {
        "colab": {
          "base_uri": "https://localhost:8080/",
          "height": 0
        },
        "id": "D8cCH_zKg8AL",
        "outputId": "1e3d9c3d-c528-4b16-fabc-7650f7953b62"
      },
      "execution_count": 29,
      "outputs": [
        {
          "output_type": "execute_result",
          "data": {
            "text/plain": [
              "True"
            ]
          },
          "metadata": {},
          "execution_count": 29
        }
      ]
    },
    {
      "cell_type": "code",
      "source": [
        "setA.add(0) "
      ],
      "metadata": {
        "id": "yGqOs2itg-X0"
      },
      "execution_count": 30,
      "outputs": []
    },
    {
      "cell_type": "code",
      "source": [
        "setA > setB "
      ],
      "metadata": {
        "colab": {
          "base_uri": "https://localhost:8080/",
          "height": 0
        },
        "id": "GP2sU2XqhDsr",
        "outputId": "96e0c32a-7307-4cc8-8f77-706ab2694b54"
      },
      "execution_count": 31,
      "outputs": [
        {
          "output_type": "execute_result",
          "data": {
            "text/plain": [
              "True"
            ]
          },
          "metadata": {},
          "execution_count": 31
        }
      ]
    },
    {
      "cell_type": "markdown",
      "source": [
        "# 1.3. Hàm lambda trong Python "
      ],
      "metadata": {
        "id": "Igqts1EBhqmL"
      }
    },
    {
      "cell_type": "markdown",
      "source": [
        "Ví dụ 1:"
      ],
      "metadata": {
        "id": "IOjvkWN2huIk"
      }
    },
    {
      "cell_type": "code",
      "source": [
        "def f (x): return x**2"
      ],
      "metadata": {
        "id": "BHU4tZ-NiY2z"
      },
      "execution_count": 44,
      "outputs": []
    },
    {
      "cell_type": "code",
      "source": [
        "print (f(8))"
      ],
      "metadata": {
        "colab": {
          "base_uri": "https://localhost:8080/",
          "height": 0
        },
        "id": "JaY1akXcii1T",
        "outputId": "3d643c4e-6d57-4e96-8b93-12df9a10ec65"
      },
      "execution_count": 46,
      "outputs": [
        {
          "output_type": "stream",
          "name": "stdout",
          "text": [
            "64\n"
          ]
        }
      ]
    },
    {
      "cell_type": "code",
      "source": [
        "g = lambda x: x**2"
      ],
      "metadata": {
        "id": "kKnLCyr0iy_S"
      },
      "execution_count": 47,
      "outputs": []
    },
    {
      "cell_type": "code",
      "source": [
        "print (g(8))"
      ],
      "metadata": {
        "colab": {
          "base_uri": "https://localhost:8080/",
          "height": 0
        },
        "id": "dYQQRRJ1i1_S",
        "outputId": "0574d909-cfeb-4604-f80e-d161cbc055d0"
      },
      "execution_count": 48,
      "outputs": [
        {
          "output_type": "stream",
          "name": "stdout",
          "text": [
            "64\n"
          ]
        }
      ]
    },
    {
      "cell_type": "code",
      "source": [
        "g = lambda x: x**3"
      ],
      "metadata": {
        "id": "W2ktSagLi6Ly"
      },
      "execution_count": 50,
      "outputs": []
    },
    {
      "cell_type": "markdown",
      "source": [
        "Ví dụ 2:"
      ],
      "metadata": {
        "id": "IwZZN-YJjJ1V"
      }
    },
    {
      "cell_type": "code",
      "source": [
        "def thue(phan_tram): return lambda x: x * phan_tram "
      ],
      "metadata": {
        "id": "HPrXiyW3jOCp"
      },
      "execution_count": 51,
      "outputs": []
    },
    {
      "cell_type": "code",
      "source": [
        "hcm = thue(0.012)"
      ],
      "metadata": {
        "id": "M-qXnWdVjVsJ"
      },
      "execution_count": 52,
      "outputs": []
    },
    {
      "cell_type": "code",
      "source": [
        "hn = thue(0.01)"
      ],
      "metadata": {
        "id": "4KTa_piIjZeJ"
      },
      "execution_count": 53,
      "outputs": []
    },
    {
      "cell_type": "code",
      "source": [
        "hcm(1000000)"
      ],
      "metadata": {
        "colab": {
          "base_uri": "https://localhost:8080/",
          "height": 0
        },
        "id": "NtkZGleTjbZJ",
        "outputId": "f4d1f556-a12e-4e6d-e4c2-0f343a3c068d"
      },
      "execution_count": 54,
      "outputs": [
        {
          "output_type": "execute_result",
          "data": {
            "text/plain": [
              "12000.0"
            ]
          },
          "metadata": {},
          "execution_count": 54
        }
      ]
    },
    {
      "cell_type": "markdown",
      "source": [
        "Ví dụ 3:"
      ],
      "metadata": {
        "id": "9VrhiZDqjfuT"
      }
    },
    {
      "cell_type": "code",
      "source": [
        "day_so = range(2, 50) \n",
        "ketqua = filter(lambda x: x % 3 == 0, day_so)"
      ],
      "metadata": {
        "id": "-2OihMpUjjNC"
      },
      "execution_count": 68,
      "outputs": []
    },
    {
      "cell_type": "code",
      "source": [
        "print(list(ketqua))"
      ],
      "metadata": {
        "colab": {
          "base_uri": "https://localhost:8080/"
        },
        "id": "jO9h740FjjTK",
        "outputId": "3213bd09-94b5-4d76-9636-cff82c3ca950"
      },
      "execution_count": 71,
      "outputs": [
        {
          "output_type": "stream",
          "name": "stdout",
          "text": [
            "[3, 6, 9, 12, 15, 18, 21, 24, 27, 30, 33, 36, 39, 42, 45, 48]\n"
          ]
        }
      ]
    },
    {
      "cell_type": "markdown",
      "source": [
        "Ví dụ 4:"
      ],
      "metadata": {
        "id": "WF4iW1DElA3B"
      }
    },
    {
      "cell_type": "code",
      "source": [
        "day_so = range(1, 100)\n",
        "ketqua = map(lambda x: x * x , day_so)"
      ],
      "metadata": {
        "id": "65SkVkbWmp5J"
      },
      "execution_count": 85,
      "outputs": []
    },
    {
      "cell_type": "code",
      "source": [
        "print(list(ketqua))"
      ],
      "metadata": {
        "colab": {
          "base_uri": "https://localhost:8080/"
        },
        "id": "guXDvLFulDRg",
        "outputId": "cfc7158d-0eb4-4974-8440-eed00c2f7909"
      },
      "execution_count": 86,
      "outputs": [
        {
          "output_type": "stream",
          "name": "stdout",
          "text": [
            "[1, 4, 9, 16, 25, 36, 49, 64, 81, 100, 121, 144, 169, 196, 225, 256, 289, 324, 361, 400, 441, 484, 529, 576, 625, 676, 729, 784, 841, 900, 961, 1024, 1089, 1156, 1225, 1296, 1369, 1444, 1521, 1600, 1681, 1764, 1849, 1936, 2025, 2116, 2209, 2304, 2401, 2500, 2601, 2704, 2809, 2916, 3025, 3136, 3249, 3364, 3481, 3600, 3721, 3844, 3969, 4096, 4225, 4356, 4489, 4624, 4761, 4900, 5041, 5184, 5329, 5476, 5625, 5776, 5929, 6084, 6241, 6400, 6561, 6724, 6889, 7056, 7225, 7396, 7569, 7744, 7921, 8100, 8281, 8464, 8649, 8836, 9025, 9216, 9409, 9604, 9801]\n"
          ]
        }
      ]
    },
    {
      "cell_type": "markdown",
      "source": [
        "Ví dụ 5:"
      ],
      "metadata": {
        "id": "o5qtCZ-WnmRf"
      }
    },
    {
      "cell_type": "code",
      "source": [
        "from functools import reduce\n",
        "day_so = range(1, 11)"
      ],
      "metadata": {
        "id": "mFmESt_8oJpQ"
      },
      "execution_count": 91,
      "outputs": []
    },
    {
      "cell_type": "code",
      "source": [
        "print (reduce(lambda x, y: x+y, day_so))"
      ],
      "metadata": {
        "colab": {
          "base_uri": "https://localhost:8080/"
        },
        "id": "-dNXLAB0no0_",
        "outputId": "d1751a49-2f7a-4aa3-aa7d-19e68330acc8"
      },
      "execution_count": 93,
      "outputs": [
        {
          "output_type": "stream",
          "name": "stdout",
          "text": [
            "55\n"
          ]
        }
      ]
    },
    {
      "cell_type": "markdown",
      "source": [
        "Ví dụ 6:"
      ],
      "metadata": {
        "id": "_8jhcV1RoyE_"
      }
    },
    {
      "cell_type": "code",
      "source": [
        "from functools import reduce\n",
        "ds = [20, 25, 50, 103, 13, 19]"
      ],
      "metadata": {
        "id": "-un7MFKyo3me"
      },
      "execution_count": 95,
      "outputs": []
    },
    {
      "cell_type": "code",
      "source": [
        "f = lambda a,b: a if (a>b) else b "
      ],
      "metadata": {
        "id": "hQppM5LYo62Y"
      },
      "execution_count": 94,
      "outputs": []
    },
    {
      "cell_type": "code",
      "source": [
        "print (reduce(f, ds))"
      ],
      "metadata": {
        "colab": {
          "base_uri": "https://localhost:8080/"
        },
        "id": "6WVi7FBmpEi2",
        "outputId": "846ccd20-e8fb-4c45-c815-37d2f06c138f"
      },
      "execution_count": 97,
      "outputs": [
        {
          "output_type": "stream",
          "name": "stdout",
          "text": [
            "103\n"
          ]
        }
      ]
    },
    {
      "cell_type": "markdown",
      "source": [
        "Ví dụ 7:"
      ],
      "metadata": {
        "id": "Ym70_7KKpLCX"
      }
    },
    {
      "cell_type": "code",
      "source": [
        "imatrix = lambda n:[[1 if j==i else 0 for j in range(n)] for i in range(n)] "
      ],
      "metadata": {
        "id": "Bi9IgWW-pMvR"
      },
      "execution_count": 98,
      "outputs": []
    },
    {
      "cell_type": "code",
      "source": [
        "imatrix(3) "
      ],
      "metadata": {
        "colab": {
          "base_uri": "https://localhost:8080/"
        },
        "id": "n_7NWew7pQwO",
        "outputId": "e328473a-488e-4ed7-f955-345407c159c4"
      },
      "execution_count": 99,
      "outputs": [
        {
          "output_type": "execute_result",
          "data": {
            "text/plain": [
              "[[1, 0, 0], [0, 1, 0], [0, 0, 1]]"
            ]
          },
          "metadata": {},
          "execution_count": 99
        }
      ]
    },
    {
      "cell_type": "code",
      "source": [
        "import numpy\n",
        "list_eye = lambda n: numpy.eye(n).tolist()\n",
        "list_eye(4)"
      ],
      "metadata": {
        "colab": {
          "base_uri": "https://localhost:8080/"
        },
        "id": "4Kw6uqxApT5-",
        "outputId": "634dd578-ba67-419f-fbed-f2b217969fde"
      },
      "execution_count": 102,
      "outputs": [
        {
          "output_type": "execute_result",
          "data": {
            "text/plain": [
              "[[1.0, 0.0, 0.0, 0.0],\n",
              " [0.0, 1.0, 0.0, 0.0],\n",
              " [0.0, 0.0, 1.0, 0.0],\n",
              " [0.0, 0.0, 0.0, 1.0]]"
            ]
          },
          "metadata": {},
          "execution_count": 102
        }
      ]
    },
    {
      "cell_type": "markdown",
      "source": [
        "Ví dụ 8:"
      ],
      "metadata": {
        "id": "1x-HlZMNpuGW"
      }
    },
    {
      "cell_type": "code",
      "source": [
        "import math\n",
        "g = lambda n:[[1 if (j+1==i or j==i+1) else math.sqrt(2) for j in range(n)] for i in range(n)] \n",
        "g(3)"
      ],
      "metadata": {
        "colab": {
          "base_uri": "https://localhost:8080/"
        },
        "id": "IWeUdhv2pxx1",
        "outputId": "ec92acd9-15ec-44f7-e5b6-8ba1c28ee696"
      },
      "execution_count": 105,
      "outputs": [
        {
          "output_type": "execute_result",
          "data": {
            "text/plain": [
              "[[1.4142135623730951, 1, 1.4142135623730951],\n",
              " [1, 1.4142135623730951, 1],\n",
              " [1.4142135623730951, 1, 1.4142135623730951]]"
            ]
          },
          "metadata": {},
          "execution_count": 105
        }
      ]
    },
    {
      "cell_type": "markdown",
      "source": [
        "Ví dụ 9:"
      ],
      "metadata": {
        "id": "R-Cn8SC7qCPW"
      }
    },
    {
      "cell_type": "code",
      "source": [
        "import math\n",
        "g = lambda n:[[1 if (j+1==i or j==i+1) else 0 if(i==n/2) else math.sqrt(2) for j in range(n)] for i in range(n)]\n",
        "g(3)"
      ],
      "metadata": {
        "colab": {
          "base_uri": "https://localhost:8080/"
        },
        "id": "UJDBrDyuqD8e",
        "outputId": "29c450df-f4ad-4921-e631-e52ac945335a"
      },
      "execution_count": 108,
      "outputs": [
        {
          "output_type": "execute_result",
          "data": {
            "text/plain": [
              "[[1.4142135623730951, 1, 1.4142135623730951],\n",
              " [1, 1.4142135623730951, 1],\n",
              " [1.4142135623730951, 1, 1.4142135623730951]]"
            ]
          },
          "metadata": {},
          "execution_count": 108
        }
      ]
    },
    {
      "cell_type": "markdown",
      "source": [
        "# 2.2. Hàm hợp trong Python \n"
      ],
      "metadata": {
        "id": "U50qPjUNqW_P"
      }
    },
    {
      "cell_type": "code",
      "source": [
        "def alpha(a): # hàm y = x+10\n",
        "  return a+10"
      ],
      "metadata": {
        "id": "x-xAIxGkqYss"
      },
      "execution_count": 113,
      "outputs": []
    },
    {
      "cell_type": "code",
      "source": [
        "def beta(b): # hàm y = 3x\n",
        "  return b*3"
      ],
      "metadata": {
        "id": "OsSF59HHqjq9"
      },
      "execution_count": 112,
      "outputs": []
    },
    {
      "cell_type": "code",
      "source": [
        "def ham_hop(g, f): # hàm compose y = 3*(x+10)\n",
        "  return (lambda x: g(f(x))) "
      ],
      "metadata": {
        "id": "GJZvoytWquJc"
      },
      "execution_count": 114,
      "outputs": []
    },
    {
      "cell_type": "code",
      "source": [
        "h = ham_hop(alpha, beta)\n",
        "h(1)"
      ],
      "metadata": {
        "colab": {
          "base_uri": "https://localhost:8080/"
        },
        "id": "Ih93XSB4q0Ik",
        "outputId": "24b2f8a9-9aa1-4881-d1f8-06a22135c61b"
      },
      "execution_count": 116,
      "outputs": [
        {
          "output_type": "execute_result",
          "data": {
            "text/plain": [
              "13"
            ]
          },
          "metadata": {},
          "execution_count": 116
        }
      ]
    },
    {
      "cell_type": "code",
      "source": [
        "g = ham_hop(beta, alpha) # Hàm compose y = (3*x) + 10\n",
        "g(1)"
      ],
      "metadata": {
        "colab": {
          "base_uri": "https://localhost:8080/"
        },
        "id": "fQQ4Au6eq5B-",
        "outputId": "20601fcf-b69a-4348-a7c0-7a34ffe4a6d8"
      },
      "execution_count": 118,
      "outputs": [
        {
          "output_type": "execute_result",
          "data": {
            "text/plain": [
              "33"
            ]
          },
          "metadata": {},
          "execution_count": 118
        }
      ]
    },
    {
      "cell_type": "markdown",
      "source": [
        "# 3. Quy nạp toán học và xây dựng hàm đệ quy trong Python "
      ],
      "metadata": {
        "id": "mQd6B86wq97l"
      }
    },
    {
      "cell_type": "code",
      "source": [
        "from datetime import datetime # Tham chiếu đến thư viện lấy ngày giờ hiện hành"
      ],
      "metadata": {
        "id": "A9b7E4xcrBFV"
      },
      "execution_count": 122,
      "outputs": []
    },
    {
      "cell_type": "code",
      "source": [
        "from datetime import timedelta # tham chiếu đến thư viện tính toán khoảng thời gian"
      ],
      "metadata": {
        "id": "H9gReemHrFOc"
      },
      "execution_count": 123,
      "outputs": []
    },
    {
      "cell_type": "code",
      "source": [
        "def millis(start_time): # start_time là tham số lưu trữ thời gian trước đó\n",
        "  dt = datetime.now() - start_time # lấy hiệu 2 thời gian: thời gian hiện hành và trước đó\n",
        "  ms = (dt.days * 24 * 60 * 60 + dt.seconds) * 1000 + dt.microseconds / 1000.0 \n",
        "  return ms # trả về là giá trị mili giây "
      ],
      "metadata": {
        "id": "izrXXoFGrQyd"
      },
      "execution_count": 125,
      "outputs": []
    },
    {
      "cell_type": "code",
      "source": [
        "def milisec_passed(start_time):\n",
        "  thoigian_troi_qua = millis(start_time) # thời gian trôi qua\n",
        "  s = \"Thoi gian da troi qua:\" + str(int(thoigian_troi_qua)) + \" mili giay.\" \n",
        "  return s "
      ],
      "metadata": {
        "id": "vTTodP5_rh3k"
      },
      "execution_count": 126,
      "outputs": []
    },
    {
      "cell_type": "code",
      "source": [
        "def tong(n):\n",
        "  bat_dau = datetime.now() # Ghi nhận thời điểm bắt đầu\n",
        "  ketqua = 0\n",
        "  for i in range(n+1):\n",
        "    ketqua = ketqua + i\n",
        "  thoi_gian = str(milisec_passed(bat_dau)) # Tính toán thời gian trôi qua\n",
        "  print(thoi_gian)\n",
        "  return ketqua"
      ],
      "metadata": {
        "id": "2yIUQ_EYr07U"
      },
      "execution_count": 127,
      "outputs": []
    },
    {
      "cell_type": "code",
      "source": [
        "tong(100000000)  # tính toán tổng từ 1 đến 1 trăm triệu"
      ],
      "metadata": {
        "colab": {
          "base_uri": "https://localhost:8080/"
        },
        "id": "qfqtRopUsQGs",
        "outputId": "73171e44-728a-4f95-f087-9364acb8d121"
      },
      "execution_count": 129,
      "outputs": [
        {
          "output_type": "stream",
          "name": "stdout",
          "text": [
            "Thoi gian da troi qua:6649 mili giay.\n"
          ]
        },
        {
          "output_type": "execute_result",
          "data": {
            "text/plain": [
              "5000000050000000"
            ]
          },
          "metadata": {},
          "execution_count": 129
        }
      ]
    },
    {
      "cell_type": "code",
      "source": [
        "def tong1(n):\n",
        "  bat_dau = datetime.now() # Ghi nhận thời điểm bắt đầu\n",
        "  ket_qua = n*(n+1)/2\n",
        "  thoi_gian = str(milisec_passed(bat_dau)) # Tính toán thời gian trôi qua\n",
        "  print(thoi_gian)\n",
        "  return ket_qua "
      ],
      "metadata": {
        "id": "OHqPIOcOsiul"
      },
      "execution_count": 130,
      "outputs": []
    },
    {
      "cell_type": "code",
      "source": [
        "tong1(100000000) # tính toán tổng từ 1 đến 1 trăm triệu"
      ],
      "metadata": {
        "colab": {
          "base_uri": "https://localhost:8080/"
        },
        "id": "CdJO9HhbsuYt",
        "outputId": "4aa5436c-49c6-4637-eec5-f9778c4732d2"
      },
      "execution_count": 133,
      "outputs": [
        {
          "output_type": "stream",
          "name": "stdout",
          "text": [
            "Thoi gian da troi qua:0 mili giay.\n"
          ]
        },
        {
          "output_type": "execute_result",
          "data": {
            "text/plain": [
              "5000000050000000.0"
            ]
          },
          "metadata": {},
          "execution_count": 133
        }
      ]
    },
    {
      "cell_type": "markdown",
      "source": [
        "Ví dụ:"
      ],
      "metadata": {
        "id": "xz4N3aWDs-Dk"
      }
    },
    {
      "cell_type": "code",
      "source": [
        "def fibo(n):\n",
        "\n",
        "  if (n==0) or (n==1):\n",
        "\n",
        "    return 1\n",
        "\n",
        "  else:\n",
        "\n",
        "    return fibo(n-1) + fibo(n-2) "
      ],
      "metadata": {
        "id": "ezSG2XA8tFWk"
      },
      "execution_count": 139,
      "outputs": []
    },
    {
      "cell_type": "code",
      "source": [
        "fibo(2) "
      ],
      "metadata": {
        "colab": {
          "base_uri": "https://localhost:8080/"
        },
        "id": "94Jzpfy9txqs",
        "outputId": "782bec9a-11a7-4568-fbeb-f03670134e85"
      },
      "execution_count": 140,
      "outputs": [
        {
          "output_type": "execute_result",
          "data": {
            "text/plain": [
              "2"
            ]
          },
          "metadata": {},
          "execution_count": 140
        }
      ]
    },
    {
      "cell_type": "code",
      "source": [
        "fibo(3)"
      ],
      "metadata": {
        "colab": {
          "base_uri": "https://localhost:8080/"
        },
        "id": "oiUGkZKYtXEk",
        "outputId": "1ab3961b-7cc8-455c-881b-7ed2925819ee"
      },
      "execution_count": 141,
      "outputs": [
        {
          "output_type": "execute_result",
          "data": {
            "text/plain": [
              "3"
            ]
          },
          "metadata": {},
          "execution_count": 141
        }
      ]
    },
    {
      "cell_type": "code",
      "source": [
        "fibo(4) "
      ],
      "metadata": {
        "colab": {
          "base_uri": "https://localhost:8080/"
        },
        "id": "Ql_rYgxSt1rU",
        "outputId": "4068debd-3775-48aa-ea07-486858716127"
      },
      "execution_count": 142,
      "outputs": [
        {
          "output_type": "execute_result",
          "data": {
            "text/plain": [
              "5"
            ]
          },
          "metadata": {},
          "execution_count": 142
        }
      ]
    },
    {
      "cell_type": "code",
      "source": [
        "fibo(5) "
      ],
      "metadata": {
        "colab": {
          "base_uri": "https://localhost:8080/"
        },
        "id": "CsJ1nlx-t3fb",
        "outputId": "1c7aaf3c-98bd-491e-a50d-e9fb64fdd720"
      },
      "execution_count": 143,
      "outputs": [
        {
          "output_type": "execute_result",
          "data": {
            "text/plain": [
              "8"
            ]
          },
          "metadata": {},
          "execution_count": 143
        }
      ]
    },
    {
      "cell_type": "markdown",
      "source": [
        "Kỹ thuật Memoization áp dụng trong đệ quy với Python"
      ],
      "metadata": {
        "id": "ct4lNpSWuNEa"
      }
    },
    {
      "cell_type": "code",
      "source": [
        "def fibo_mem(n, so_da_tinh = {0:0, 1: 1}):\n",
        "  if n not in so_da_tinh:\n",
        "    so_da_tinh[n] = fibo_mem(n-1, so_da_tinh) + fibo_mem(n-2, so_da_tinh)\n",
        "  return so_da_tinh[n] "
      ],
      "metadata": {
        "id": "p7df0YbAuOSH"
      },
      "execution_count": 148,
      "outputs": []
    },
    {
      "cell_type": "code",
      "source": [
        "fibo_mem(3)"
      ],
      "metadata": {
        "colab": {
          "base_uri": "https://localhost:8080/"
        },
        "id": "giupEn1buinC",
        "outputId": "6cb39262-faac-497f-db2e-4b8445d42fa5"
      },
      "execution_count": 149,
      "outputs": [
        {
          "output_type": "execute_result",
          "data": {
            "text/plain": [
              "2"
            ]
          },
          "metadata": {},
          "execution_count": 149
        }
      ]
    },
    {
      "cell_type": "code",
      "source": [
        "fibo_mem(4) "
      ],
      "metadata": {
        "colab": {
          "base_uri": "https://localhost:8080/"
        },
        "id": "L1H-CLoJuzS0",
        "outputId": "a26b2638-fff6-413c-bb1d-8d5712b0b084"
      },
      "execution_count": 150,
      "outputs": [
        {
          "output_type": "execute_result",
          "data": {
            "text/plain": [
              "3"
            ]
          },
          "metadata": {},
          "execution_count": 150
        }
      ]
    },
    {
      "cell_type": "code",
      "source": [
        "fibo_mem(5)"
      ],
      "metadata": {
        "colab": {
          "base_uri": "https://localhost:8080/"
        },
        "id": "OE3k8Zcgu1Qy",
        "outputId": "944cc508-1d2e-4dfb-fc0b-57be25385825"
      },
      "execution_count": 151,
      "outputs": [
        {
          "output_type": "execute_result",
          "data": {
            "text/plain": [
              "5"
            ]
          },
          "metadata": {},
          "execution_count": 151
        }
      ]
    },
    {
      "cell_type": "code",
      "source": [
        "fibo_mem(200) "
      ],
      "metadata": {
        "colab": {
          "base_uri": "https://localhost:8080/"
        },
        "id": "FNS4QnFku4WT",
        "outputId": "aebfab72-1103-4ec8-de1c-100c8efc3288"
      },
      "execution_count": 152,
      "outputs": [
        {
          "output_type": "execute_result",
          "data": {
            "text/plain": [
              "280571172992510140037611932413038677189525"
            ]
          },
          "metadata": {},
          "execution_count": 152
        }
      ]
    },
    {
      "cell_type": "code",
      "source": [
        "fibo_mem(500)"
      ],
      "metadata": {
        "colab": {
          "base_uri": "https://localhost:8080/"
        },
        "id": "SH27xHL7u6Sr",
        "outputId": "9a0f797e-e1a0-4b47-c3d6-02f8cb20f914"
      },
      "execution_count": 153,
      "outputs": [
        {
          "output_type": "execute_result",
          "data": {
            "text/plain": [
              "139423224561697880139724382870407283950070256587697307264108962948325571622863290691557658876222521294125"
            ]
          },
          "metadata": {},
          "execution_count": 153
        }
      ]
    }
  ]
}