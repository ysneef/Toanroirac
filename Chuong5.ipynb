{
  "nbformat": 4,
  "nbformat_minor": 0,
  "metadata": {
    "colab": {
      "name": "Chuong5.ipynb",
      "provenance": [],
      "collapsed_sections": [],
      "authorship_tag": "ABX9TyOZCEJ16IOUKOeu2H3DNRCK",
      "include_colab_link": true
    },
    "kernelspec": {
      "name": "python3",
      "display_name": "Python 3"
    },
    "language_info": {
      "name": "python"
    }
  },
  "cells": [
    {
      "cell_type": "markdown",
      "metadata": {
        "id": "view-in-github",
        "colab_type": "text"
      },
      "source": [
        "<a href=\"https://colab.research.google.com/github/ysneef/Toanroirac/blob/main/Chuong5.ipynb\" target=\"_parent\"><img src=\"https://colab.research.google.com/assets/colab-badge.svg\" alt=\"Open In Colab\"/></a>"
      ]
    },
    {
      "cell_type": "markdown",
      "source": [
        "# **CHƯƠNG 5: QUAN HỆ TRONG TẬP HỢP**"
      ],
      "metadata": {
        "id": "A37yV-E35P8X"
      }
    },
    {
      "cell_type": "markdown",
      "source": [
        "# 1. Dẫn nhập: Bài toán nói dối – nói thật: Knights và Knaves "
      ],
      "metadata": {
        "id": "lNF5VHg95LPq"
      }
    },
    {
      "cell_type": "code",
      "execution_count": null,
      "metadata": {
        "id": "xLUtUM1-5IOU"
      },
      "outputs": [],
      "source": [
        "James = [True, True, True, True, False, False, False, True]\n",
        "Jonathan =[True, True, True, True, False, False, False, True]\n",
        "ngay_trong_tuan = [\"Thu 2\", \"Thu 3\", \"Thu 4\", \"Thu 5\", \"Thu 6\", \"Thu 7\", \"Chu nhat\", \"Thu 2\"] "
      ]
    },
    {
      "cell_type": "markdown",
      "source": [
        "- Code chưa rút gọn:"
      ],
      "metadata": {
        "id": "pRmnseg66y00"
      }
    },
    {
      "cell_type": "code",
      "source": [
        "for i in range(0, 6):\n",
        "  if ((James[i] == True and James[i+1] == False)\n",
        "    or ((James[i] == False and James[i+1] == True))):\n",
        "      if ((Jonathan[i] == True and Jonathan[i+1] == False)\n",
        "        or ((Jonathan[i] == False and Jonathan[i+1] == True))):\n",
        "          print(ngay_trong_tuan[i])"
      ],
      "metadata": {
        "colab": {
          "base_uri": "https://localhost:8080/"
        },
        "id": "S6TSRZAG63lm",
        "outputId": "905aef77-4f4c-46d9-ddaa-36361ada73cd"
      },
      "execution_count": null,
      "outputs": [
        {
          "output_type": "stream",
          "name": "stdout",
          "text": [
            "Thu 5\n"
          ]
        }
      ]
    },
    {
      "cell_type": "markdown",
      "source": [
        "- Code rút gọn:"
      ],
      "metadata": {
        "id": "AXMFVS8m7gvl"
      }
    },
    {
      "cell_type": "code",
      "source": [
        "for i in range(0,6):\n",
        "  if ((James[i] and not James[i+1]) and (Jonathan[i] and not Jonathan[i+1])):\n",
        "    print (ngay_trong_tuan[i]) "
      ],
      "metadata": {
        "colab": {
          "base_uri": "https://localhost:8080/"
        },
        "id": "nbHyXlrH7jCY",
        "outputId": "4c894205-78df-4d94-8b4a-99bbce4de809"
      },
      "execution_count": null,
      "outputs": [
        {
          "output_type": "stream",
          "name": "stdout",
          "text": [
            "Thu 5\n"
          ]
        }
      ]
    },
    {
      "cell_type": "markdown",
      "source": [
        "# 2. Tóm lược: Quan hệ trên các tập hợp và biểu diễn quan hệ "
      ],
      "metadata": {
        "id": "V_LjHY_j7r9o"
      }
    },
    {
      "cell_type": "markdown",
      "source": [
        "- Dẫn nhập:"
      ],
      "metadata": {
        "id": "AY_jRwB9700-"
      }
    },
    {
      "cell_type": "code",
      "source": [
        "import random\n",
        "S = random.sample(range(1, 100), 10) # lấy mẫu 10 số tự nhiên trong [1, 99]\n",
        "print (S)"
      ],
      "metadata": {
        "colab": {
          "base_uri": "https://localhost:8080/"
        },
        "id": "ctYcydMc7wuy",
        "outputId": "20245935-3490-49c2-c364-d4222098508e"
      },
      "execution_count": null,
      "outputs": [
        {
          "output_type": "stream",
          "name": "stdout",
          "text": [
            "[81, 14, 96, 50, 10, 11, 95, 58, 39, 40]\n"
          ]
        }
      ]
    },
    {
      "cell_type": "code",
      "source": [
        "tS = []\n",
        "for i in range(len(S)):\n",
        "  tS.append(0)\n",
        "  for j in range(i, len(S)):\n",
        "    if S[i] < S[j]:\n",
        "      tS[i] = tS[i] + 1 "
      ],
      "metadata": {
        "id": "pIO0knrn79xn"
      },
      "execution_count": null,
      "outputs": []
    },
    {
      "cell_type": "code",
      "source": [
        "print (tS)"
      ],
      "metadata": {
        "colab": {
          "base_uri": "https://localhost:8080/"
        },
        "id": "40w6sWxD8ad1",
        "outputId": "40731022-41c0-4591-8fbb-c780b3a52ec7"
      },
      "execution_count": null,
      "outputs": [
        {
          "output_type": "stream",
          "name": "stdout",
          "text": [
            "[2, 6, 0, 2, 5, 4, 0, 0, 1, 0]\n"
          ]
        }
      ]
    },
    {
      "cell_type": "markdown",
      "source": [
        "- Quan hệ trên tập hợp: "
      ],
      "metadata": {
        "id": "9e1hmgnv8Up4"
      }
    },
    {
      "cell_type": "markdown",
      "source": [
        "- Tính chất: "
      ],
      "metadata": {
        "id": "YZpWpJw_8qu3"
      }
    },
    {
      "cell_type": "markdown",
      "source": [
        "*Phương pháp 1: Biểu diễn quan hệ R của tập A với tập B bằng ma trận*"
      ],
      "metadata": {
        "id": "Lr6rv2zT8wqN"
      }
    },
    {
      "cell_type": "code",
      "source": [
        "import numpy as np\n",
        "import pandas as pd\n",
        "from google.colab import drive\n",
        "drive.mount('/drive')\n",
        "pd.savefig('/drive/My Drive/ToanRoiRac/monhoc.xlsx')"
      ],
      "metadata": {
        "id": "KVzSfpNo8ggb",
        "outputId": "b9647081-0600-47ef-e8c5-86d2c3e48fa4",
        "colab": {
          "base_uri": "https://localhost:8080/",
          "height": 339
        }
      },
      "execution_count": 2,
      "outputs": [
        {
          "output_type": "stream",
          "name": "stdout",
          "text": [
            "Drive already mounted at /drive; to attempt to forcibly remount, call drive.mount(\"/drive\", force_remount=True).\n"
          ]
        },
        {
          "output_type": "error",
          "ename": "AttributeError",
          "evalue": "ignored",
          "traceback": [
            "\u001b[0;31m---------------------------------------------------------------------------\u001b[0m",
            "\u001b[0;31mAttributeError\u001b[0m                            Traceback (most recent call last)",
            "\u001b[0;32m<ipython-input-2-f900336a150d>\u001b[0m in \u001b[0;36m<module>\u001b[0;34m()\u001b[0m\n\u001b[1;32m      3\u001b[0m \u001b[0;32mfrom\u001b[0m \u001b[0mgoogle\u001b[0m\u001b[0;34m.\u001b[0m\u001b[0mcolab\u001b[0m \u001b[0;32mimport\u001b[0m \u001b[0mdrive\u001b[0m\u001b[0;34m\u001b[0m\u001b[0;34m\u001b[0m\u001b[0m\n\u001b[1;32m      4\u001b[0m \u001b[0mdrive\u001b[0m\u001b[0;34m.\u001b[0m\u001b[0mmount\u001b[0m\u001b[0;34m(\u001b[0m\u001b[0;34m'/drive'\u001b[0m\u001b[0;34m)\u001b[0m\u001b[0;34m\u001b[0m\u001b[0;34m\u001b[0m\u001b[0m\n\u001b[0;32m----> 5\u001b[0;31m \u001b[0mpd\u001b[0m\u001b[0;34m.\u001b[0m\u001b[0msavefig\u001b[0m\u001b[0;34m(\u001b[0m\u001b[0;34m'/drive/My Drive/ToanRoiRac/monhoc.xlsx'\u001b[0m\u001b[0;34m)\u001b[0m\u001b[0;34m\u001b[0m\u001b[0;34m\u001b[0m\u001b[0m\n\u001b[0m",
            "\u001b[0;32m/usr/local/lib/python3.7/dist-packages/pandas/__init__.py\u001b[0m in \u001b[0;36m__getattr__\u001b[0;34m(name)\u001b[0m\n\u001b[1;32m    242\u001b[0m         \u001b[0;32mreturn\u001b[0m \u001b[0m_SparseArray\u001b[0m\u001b[0;34m\u001b[0m\u001b[0;34m\u001b[0m\u001b[0m\n\u001b[1;32m    243\u001b[0m \u001b[0;34m\u001b[0m\u001b[0m\n\u001b[0;32m--> 244\u001b[0;31m     \u001b[0;32mraise\u001b[0m \u001b[0mAttributeError\u001b[0m\u001b[0;34m(\u001b[0m\u001b[0;34mf\"module 'pandas' has no attribute '{name}'\"\u001b[0m\u001b[0;34m)\u001b[0m\u001b[0;34m\u001b[0m\u001b[0;34m\u001b[0m\u001b[0m\n\u001b[0m\u001b[1;32m    245\u001b[0m \u001b[0;34m\u001b[0m\u001b[0m\n\u001b[1;32m    246\u001b[0m \u001b[0;34m\u001b[0m\u001b[0m\n",
            "\u001b[0;31mAttributeError\u001b[0m: module 'pandas' has no attribute 'savefig'"
          ]
        }
      ]
    }
  ]
}