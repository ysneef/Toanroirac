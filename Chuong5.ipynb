{
  "nbformat": 4,
  "nbformat_minor": 0,
  "metadata": {
    "colab": {
      "name": "Chuong5.ipynb",
      "provenance": [],
      "collapsed_sections": [],
      "authorship_tag": "ABX9TyNw0re9OlaKM+cyk1Zdjjo7",
      "include_colab_link": true
    },
    "kernelspec": {
      "name": "python3",
      "display_name": "Python 3"
    },
    "language_info": {
      "name": "python"
    }
  },
  "cells": [
    {
      "cell_type": "markdown",
      "metadata": {
        "id": "view-in-github",
        "colab_type": "text"
      },
      "source": [
        "<a href=\"https://colab.research.google.com/github/ysneef/Toanroirac/blob/main/Chuong5.ipynb\" target=\"_parent\"><img src=\"https://colab.research.google.com/assets/colab-badge.svg\" alt=\"Open In Colab\"/></a>"
      ]
    },
    {
      "cell_type": "markdown",
      "source": [
        "# **CHƯƠNG 5: QUAN HỆ TRONG TẬP HỢP**"
      ],
      "metadata": {
        "id": "A37yV-E35P8X"
      }
    },
    {
      "cell_type": "markdown",
      "source": [
        "# 1. Dẫn nhập: Bài toán nói dối – nói thật: Knights và Knaves "
      ],
      "metadata": {
        "id": "lNF5VHg95LPq"
      }
    },
    {
      "cell_type": "code",
      "execution_count": null,
      "metadata": {
        "id": "xLUtUM1-5IOU"
      },
      "outputs": [],
      "source": [
        "James = [True, True, True, True, False, False, False, True]\n",
        "Jonathan =[True, True, True, True, False, False, False, True]\n",
        "ngay_trong_tuan = [\"Thu 2\", \"Thu 3\", \"Thu 4\", \"Thu 5\", \"Thu 6\", \"Thu 7\", \"Chu nhat\", \"Thu 2\"] "
      ]
    },
    {
      "cell_type": "markdown",
      "source": [
        "- Code chưa rút gọn:"
      ],
      "metadata": {
        "id": "pRmnseg66y00"
      }
    },
    {
      "cell_type": "code",
      "source": [
        "for i in range(0, 6):\n",
        "  if ((James[i] == True and James[i+1] == False)\n",
        "    or ((James[i] == False and James[i+1] == True))):\n",
        "      if ((Jonathan[i] == True and Jonathan[i+1] == False)\n",
        "        or ((Jonathan[i] == False and Jonathan[i+1] == True))):\n",
        "          print(ngay_trong_tuan[i])"
      ],
      "metadata": {
        "colab": {
          "base_uri": "https://localhost:8080/"
        },
        "id": "S6TSRZAG63lm",
        "outputId": "905aef77-4f4c-46d9-ddaa-36361ada73cd"
      },
      "execution_count": null,
      "outputs": [
        {
          "output_type": "stream",
          "name": "stdout",
          "text": [
            "Thu 5\n"
          ]
        }
      ]
    },
    {
      "cell_type": "markdown",
      "source": [
        "- Code rút gọn:"
      ],
      "metadata": {
        "id": "AXMFVS8m7gvl"
      }
    },
    {
      "cell_type": "code",
      "source": [
        "for i in range(0,6):\n",
        "  if ((James[i] and not James[i+1]) and (Jonathan[i] and not Jonathan[i+1])):\n",
        "    print (ngay_trong_tuan[i]) "
      ],
      "metadata": {
        "colab": {
          "base_uri": "https://localhost:8080/"
        },
        "id": "nbHyXlrH7jCY",
        "outputId": "4c894205-78df-4d94-8b4a-99bbce4de809"
      },
      "execution_count": null,
      "outputs": [
        {
          "output_type": "stream",
          "name": "stdout",
          "text": [
            "Thu 5\n"
          ]
        }
      ]
    },
    {
      "cell_type": "markdown",
      "source": [
        "# 2. Tóm lược: Quan hệ trên các tập hợp và biểu diễn quan hệ "
      ],
      "metadata": {
        "id": "V_LjHY_j7r9o"
      }
    },
    {
      "cell_type": "markdown",
      "source": [
        "- Dẫn nhập:"
      ],
      "metadata": {
        "id": "AY_jRwB9700-"
      }
    },
    {
      "cell_type": "code",
      "source": [
        "import random\n",
        "S = random.sample(range(1, 100), 10) # lấy mẫu 10 số tự nhiên trong [1, 99]\n",
        "print (S)"
      ],
      "metadata": {
        "colab": {
          "base_uri": "https://localhost:8080/"
        },
        "id": "ctYcydMc7wuy",
        "outputId": "20245935-3490-49c2-c364-d4222098508e"
      },
      "execution_count": null,
      "outputs": [
        {
          "output_type": "stream",
          "name": "stdout",
          "text": [
            "[81, 14, 96, 50, 10, 11, 95, 58, 39, 40]\n"
          ]
        }
      ]
    },
    {
      "cell_type": "code",
      "source": [
        "tS = []\n",
        "for i in range(len(S)):\n",
        "  tS.append(0)\n",
        "  for j in range(i, len(S)):\n",
        "    if S[i] < S[j]:\n",
        "      tS[i] = tS[i] + 1 "
      ],
      "metadata": {
        "id": "pIO0knrn79xn"
      },
      "execution_count": null,
      "outputs": []
    },
    {
      "cell_type": "code",
      "source": [
        "print (tS)"
      ],
      "metadata": {
        "colab": {
          "base_uri": "https://localhost:8080/"
        },
        "id": "40w6sWxD8ad1",
        "outputId": "40731022-41c0-4591-8fbb-c780b3a52ec7"
      },
      "execution_count": null,
      "outputs": [
        {
          "output_type": "stream",
          "name": "stdout",
          "text": [
            "[2, 6, 0, 2, 5, 4, 0, 0, 1, 0]\n"
          ]
        }
      ]
    },
    {
      "cell_type": "markdown",
      "source": [
        "- Quan hệ trên tập hợp: "
      ],
      "metadata": {
        "id": "9e1hmgnv8Up4"
      }
    },
    {
      "cell_type": "markdown",
      "source": [
        "- Tính chất: "
      ],
      "metadata": {
        "id": "YZpWpJw_8qu3"
      }
    },
    {
      "cell_type": "markdown",
      "source": [
        "*Phương pháp 1: Biểu diễn quan hệ R của tập A với tập B bằng ma trận*"
      ],
      "metadata": {
        "id": "Lr6rv2zT8wqN"
      }
    },
    {
      "cell_type": "markdown",
      "source": [
        "[văn bản liên kết](https://drive.google.com/file/d/1ODCnqsIm24lwxBKlluRL3pSjVYU7Pq73/view?usp=sharing)"
      ],
      "metadata": {
        "id": "i5hKwXx2uJ6a"
      }
    },
    {
      "cell_type": "markdown",
      "source": [
        "# 5. Khái niệm về lập trình logic"
      ],
      "metadata": {
        "id": "kf7nAd6UuknS"
      }
    },
    {
      "cell_type": "markdown",
      "source": [
        "5.3. Minh họa sử dụng gói pyswip "
      ],
      "metadata": {
        "id": "WsHkatiAumJ5"
      }
    },
    {
      "cell_type": "markdown",
      "source": [
        "- Ví dụ 1: Liệt kê dữ liệu tác giả và tác phẩm "
      ],
      "metadata": {
        "id": "LxdOIPPUwO0i"
      }
    },
    {
      "cell_type": "code",
      "source": [
        "from pyswip import Prolog\n",
        "tgtph = Prolog() # khai báo quan hệ giữa tác giả tác phẩm là một đối tượng Prolog\n",
        "tgtph.assertz('tacgiatacpham(nguyendu,truyenkieu)') # nhập dữ liệu nguyendu, truyenkieu\n",
        "tgtph.assertz('tacgiatacpham(nguyendu,thanhhienthitap)')\n",
        "tgtph.assertz('tacgiatacpham(nguyendu,namtrungtapngam)')\n",
        "tgtph.assertz('tacgiatacpham(nguyendu,bachanhluctap)')\n",
        "list(tgtph.query('tacgiatacpham(nguyendu, X)')) # truy vấn kết quả đã nhập\n",
        "for tg in tgtph.query('tacgiatacpham(X, Y)'): # truy vấn : liệt kê toàn bộ \n",
        "print(tg[\"X\"], ' viet ra tac pham: ', tg[\"Y\"]) "
      ],
      "metadata": {
        "id": "IPB1DZx4wFqh"
      },
      "execution_count": null,
      "outputs": []
    }
  ]
}